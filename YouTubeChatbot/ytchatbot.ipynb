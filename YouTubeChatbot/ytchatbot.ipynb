{
 "cells": [
  {
   "cell_type": "code",
   "execution_count": 1,
   "id": "7a9e8953",
   "metadata": {
    "execution": {
     "iopub.execute_input": "2025-06-22T23:56:19.518428Z",
     "iopub.status.busy": "2025-06-22T23:56:19.518158Z",
     "iopub.status.idle": "2025-06-22T23:56:46.469827Z",
     "shell.execute_reply": "2025-06-22T23:56:46.469075Z"
    },
    "papermill": {
     "duration": 26.960397,
     "end_time": "2025-06-22T23:56:46.471307",
     "exception": false,
     "start_time": "2025-06-22T23:56:19.510910",
     "status": "completed"
    },
    "tags": []
   },
   "outputs": [
    {
     "name": "stdout",
     "output_type": "stream",
     "text": [
      "Found existing installation: google-ai-generativelanguage 0.6.15\r\n",
      "Uninstalling google-ai-generativelanguage-0.6.15:\r\n",
      "  Successfully uninstalled google-ai-generativelanguage-0.6.15\r\n",
      "Found existing installation: google-generativeai 0.8.4\r\n",
      "Uninstalling google-generativeai-0.8.4:\r\n",
      "  Successfully uninstalled google-generativeai-0.8.4\r\n",
      "Collecting youtube-transcript-api\r\n",
      "  Downloading youtube_transcript_api-1.1.0-py3-none-any.whl.metadata (23 kB)\r\n",
      "Collecting langchain-community\r\n",
      "  Downloading langchain_community-0.3.26-py3-none-any.whl.metadata (2.9 kB)\r\n",
      "Collecting langchain-openai\r\n",
      "  Downloading langchain_openai-0.3.24-py3-none-any.whl.metadata (2.3 kB)\r\n",
      "Collecting langchain-google-genai\r\n",
      "  Downloading langchain_google_genai-2.1.5-py3-none-any.whl.metadata (5.2 kB)\r\n",
      "Collecting faiss-cpu\r\n",
      "  Downloading faiss_cpu-1.11.0-cp311-cp311-manylinux_2_28_x86_64.whl.metadata (4.8 kB)\r\n",
      "Requirement already satisfied: tiktoken in /usr/local/lib/python3.11/dist-packages (0.9.0)\r\n",
      "Collecting python-dotenv\r\n",
      "  Downloading python_dotenv-1.1.0-py3-none-any.whl.metadata (24 kB)\r\n",
      "Collecting google-ai-generativelanguage==0.6.15\r\n",
      "  Downloading google_ai_generativelanguage-0.6.15-py3-none-any.whl.metadata (5.7 kB)\r\n",
      "Requirement already satisfied: google-api-core!=2.0.*,!=2.1.*,!=2.10.*,!=2.2.*,!=2.3.*,!=2.4.*,!=2.5.*,!=2.6.*,!=2.7.*,!=2.8.*,!=2.9.*,<3.0.0dev,>=1.34.1 in /usr/local/lib/python3.11/dist-packages (from google-api-core[grpc]!=2.0.*,!=2.1.*,!=2.10.*,!=2.2.*,!=2.3.*,!=2.4.*,!=2.5.*,!=2.6.*,!=2.7.*,!=2.8.*,!=2.9.*,<3.0.0dev,>=1.34.1->google-ai-generativelanguage==0.6.15) (1.34.1)\r\n",
      "Requirement already satisfied: google-auth!=2.24.0,!=2.25.0,<3.0.0dev,>=2.14.1 in /usr/local/lib/python3.11/dist-packages (from google-ai-generativelanguage==0.6.15) (2.40.1)\r\n",
      "Requirement already satisfied: proto-plus<2.0.0dev,>=1.22.3 in /usr/local/lib/python3.11/dist-packages (from google-ai-generativelanguage==0.6.15) (1.26.1)\r\n",
      "Requirement already satisfied: protobuf!=4.21.0,!=4.21.1,!=4.21.2,!=4.21.3,!=4.21.4,!=4.21.5,<6.0.0dev,>=3.20.2 in /usr/local/lib/python3.11/dist-packages (from google-ai-generativelanguage==0.6.15) (3.20.3)\r\n",
      "Requirement already satisfied: defusedxml<0.8.0,>=0.7.1 in /usr/local/lib/python3.11/dist-packages (from youtube-transcript-api) (0.7.1)\r\n",
      "Requirement already satisfied: requests in /usr/local/lib/python3.11/dist-packages (from youtube-transcript-api) (2.32.3)\r\n",
      "Collecting langchain-core<1.0.0,>=0.3.66 (from langchain-community)\r\n",
      "  Downloading langchain_core-0.3.66-py3-none-any.whl.metadata (5.8 kB)\r\n",
      "Collecting langchain<1.0.0,>=0.3.26 (from langchain-community)\r\n",
      "  Downloading langchain-0.3.26-py3-none-any.whl.metadata (7.8 kB)\r\n",
      "Requirement already satisfied: SQLAlchemy<3,>=1.4 in /usr/local/lib/python3.11/dist-packages (from langchain-community) (2.0.40)\r\n",
      "Requirement already satisfied: PyYAML>=5.3 in /usr/local/lib/python3.11/dist-packages (from langchain-community) (6.0.2)\r\n",
      "Requirement already satisfied: aiohttp<4.0.0,>=3.8.3 in /usr/local/lib/python3.11/dist-packages (from langchain-community) (3.11.18)\r\n",
      "Requirement already satisfied: tenacity!=8.4.0,<10,>=8.1.0 in /usr/local/lib/python3.11/dist-packages (from langchain-community) (9.1.2)\r\n",
      "Requirement already satisfied: dataclasses-json<0.7,>=0.5.7 in /usr/local/lib/python3.11/dist-packages (from langchain-community) (0.6.7)\r\n",
      "Collecting pydantic-settings<3.0.0,>=2.4.0 (from langchain-community)\r\n",
      "  Downloading pydantic_settings-2.10.0-py3-none-any.whl.metadata (3.4 kB)\r\n",
      "Requirement already satisfied: langsmith>=0.1.125 in /usr/local/lib/python3.11/dist-packages (from langchain-community) (0.3.23)\r\n",
      "Collecting httpx-sse<1.0.0,>=0.4.0 (from langchain-community)\r\n",
      "  Downloading httpx_sse-0.4.0-py3-none-any.whl.metadata (9.0 kB)\r\n",
      "Requirement already satisfied: numpy>=1.26.2 in /usr/local/lib/python3.11/dist-packages (from langchain-community) (1.26.4)\r\n",
      "Collecting openai<2.0.0,>=1.86.0 (from langchain-openai)\r\n",
      "  Downloading openai-1.90.0-py3-none-any.whl.metadata (26 kB)\r\n",
      "Collecting filetype<2.0.0,>=1.2.0 (from langchain-google-genai)\r\n",
      "  Downloading filetype-1.2.0-py2.py3-none-any.whl.metadata (6.5 kB)\r\n",
      "INFO: pip is looking at multiple versions of langchain-google-genai to determine which version is compatible with other requirements. This could take a while.\r\n",
      "Collecting langchain-google-genai\r\n",
      "  Downloading langchain_google_genai-2.1.4-py3-none-any.whl.metadata (5.2 kB)\r\n",
      "  Downloading langchain_google_genai-2.1.3-py3-none-any.whl.metadata (4.7 kB)\r\n",
      "  Downloading langchain_google_genai-2.1.2-py3-none-any.whl.metadata (4.7 kB)\r\n",
      "  Downloading langchain_google_genai-2.1.1-py3-none-any.whl.metadata (4.7 kB)\r\n",
      "  Downloading langchain_google_genai-2.1.0-py3-none-any.whl.metadata (3.6 kB)\r\n",
      "  Downloading langchain_google_genai-2.0.11-py3-none-any.whl.metadata (3.6 kB)\r\n",
      "  Downloading langchain_google_genai-2.0.10-py3-none-any.whl.metadata (3.6 kB)\r\n",
      "Collecting google-generativeai<0.9.0,>=0.8.0 (from langchain-google-genai)\r\n",
      "  Downloading google_generativeai-0.8.5-py3-none-any.whl.metadata (3.9 kB)\r\n",
      "Requirement already satisfied: pydantic<3,>=2 in /usr/local/lib/python3.11/dist-packages (from langchain-google-genai) (2.11.4)\r\n",
      "Requirement already satisfied: packaging in /usr/local/lib/python3.11/dist-packages (from faiss-cpu) (25.0)\r\n",
      "Requirement already satisfied: regex>=2022.1.18 in /usr/local/lib/python3.11/dist-packages (from tiktoken) (2024.11.6)\r\n",
      "Requirement already satisfied: aiohappyeyeballs>=2.3.0 in /usr/local/lib/python3.11/dist-packages (from aiohttp<4.0.0,>=3.8.3->langchain-community) (2.6.1)\r\n",
      "Requirement already satisfied: aiosignal>=1.1.2 in /usr/local/lib/python3.11/dist-packages (from aiohttp<4.0.0,>=3.8.3->langchain-community) (1.3.2)\r\n",
      "Requirement already satisfied: attrs>=17.3.0 in /usr/local/lib/python3.11/dist-packages (from aiohttp<4.0.0,>=3.8.3->langchain-community) (25.3.0)\r\n",
      "Requirement already satisfied: frozenlist>=1.1.1 in /usr/local/lib/python3.11/dist-packages (from aiohttp<4.0.0,>=3.8.3->langchain-community) (1.6.0)\r\n",
      "Requirement already satisfied: multidict<7.0,>=4.5 in /usr/local/lib/python3.11/dist-packages (from aiohttp<4.0.0,>=3.8.3->langchain-community) (6.4.3)\r\n",
      "Requirement already satisfied: propcache>=0.2.0 in /usr/local/lib/python3.11/dist-packages (from aiohttp<4.0.0,>=3.8.3->langchain-community) (0.3.1)\r\n",
      "Requirement already satisfied: yarl<2.0,>=1.17.0 in /usr/local/lib/python3.11/dist-packages (from aiohttp<4.0.0,>=3.8.3->langchain-community) (1.20.0)\r\n",
      "Requirement already satisfied: marshmallow<4.0.0,>=3.18.0 in /usr/local/lib/python3.11/dist-packages (from dataclasses-json<0.7,>=0.5.7->langchain-community) (3.26.1)\r\n",
      "Requirement already satisfied: typing-inspect<1,>=0.4.0 in /usr/local/lib/python3.11/dist-packages (from dataclasses-json<0.7,>=0.5.7->langchain-community) (0.9.0)\r\n",
      "Requirement already satisfied: googleapis-common-protos<2.0dev,>=1.56.2 in /usr/local/lib/python3.11/dist-packages (from google-api-core!=2.0.*,!=2.1.*,!=2.10.*,!=2.2.*,!=2.3.*,!=2.4.*,!=2.5.*,!=2.6.*,!=2.7.*,!=2.8.*,!=2.9.*,<3.0.0dev,>=1.34.1->google-api-core[grpc]!=2.0.*,!=2.1.*,!=2.10.*,!=2.2.*,!=2.3.*,!=2.4.*,!=2.5.*,!=2.6.*,!=2.7.*,!=2.8.*,!=2.9.*,<3.0.0dev,>=1.34.1->google-ai-generativelanguage==0.6.15) (1.70.0)\r\n",
      "Requirement already satisfied: grpcio<2.0dev,>=1.33.2 in /usr/local/lib/python3.11/dist-packages (from google-api-core[grpc]!=2.0.*,!=2.1.*,!=2.10.*,!=2.2.*,!=2.3.*,!=2.4.*,!=2.5.*,!=2.6.*,!=2.7.*,!=2.8.*,!=2.9.*,<3.0.0dev,>=1.34.1->google-ai-generativelanguage==0.6.15) (1.72.0rc1)\r\n",
      "Requirement already satisfied: grpcio-status<2.0dev,>=1.33.2 in /usr/local/lib/python3.11/dist-packages (from google-api-core[grpc]!=2.0.*,!=2.1.*,!=2.10.*,!=2.2.*,!=2.3.*,!=2.4.*,!=2.5.*,!=2.6.*,!=2.7.*,!=2.8.*,!=2.9.*,<3.0.0dev,>=1.34.1->google-ai-generativelanguage==0.6.15) (1.49.0rc1)\r\n",
      "Requirement already satisfied: cachetools<6.0,>=2.0.0 in /usr/local/lib/python3.11/dist-packages (from google-auth!=2.24.0,!=2.25.0,<3.0.0dev,>=2.14.1->google-ai-generativelanguage==0.6.15) (5.5.2)\r\n",
      "Requirement already satisfied: pyasn1-modules>=0.2.1 in /usr/local/lib/python3.11/dist-packages (from google-auth!=2.24.0,!=2.25.0,<3.0.0dev,>=2.14.1->google-ai-generativelanguage==0.6.15) (0.4.2)\r\n",
      "Requirement already satisfied: rsa<5,>=3.1.4 in /usr/local/lib/python3.11/dist-packages (from google-auth!=2.24.0,!=2.25.0,<3.0.0dev,>=2.14.1->google-ai-generativelanguage==0.6.15) (4.9.1)\r\n",
      "Requirement already satisfied: google-api-python-client in /usr/local/lib/python3.11/dist-packages (from google-generativeai<0.9.0,>=0.8.0->langchain-google-genai) (2.164.0)\r\n",
      "Requirement already satisfied: tqdm in /usr/local/lib/python3.11/dist-packages (from google-generativeai<0.9.0,>=0.8.0->langchain-google-genai) (4.67.1)\r\n",
      "Requirement already satisfied: typing-extensions in /usr/local/lib/python3.11/dist-packages (from google-generativeai<0.9.0,>=0.8.0->langchain-google-genai) (4.13.2)\r\n",
      "Collecting langchain-text-splitters<1.0.0,>=0.3.8 (from langchain<1.0.0,>=0.3.26->langchain-community)\r\n",
      "  Downloading langchain_text_splitters-0.3.8-py3-none-any.whl.metadata (1.9 kB)\r\n",
      "Collecting langsmith>=0.1.125 (from langchain-community)\r\n",
      "  Downloading langsmith-0.4.1-py3-none-any.whl.metadata (15 kB)\r\n",
      "Requirement already satisfied: jsonpatch<2.0,>=1.33 in /usr/local/lib/python3.11/dist-packages (from langchain-core<1.0.0,>=0.3.66->langchain-community) (1.33)\r\n",
      "Collecting packaging (from faiss-cpu)\r\n",
      "  Downloading packaging-24.2-py3-none-any.whl.metadata (3.2 kB)\r\n",
      "Requirement already satisfied: httpx<1,>=0.23.0 in /usr/local/lib/python3.11/dist-packages (from langsmith>=0.1.125->langchain-community) (0.28.1)\r\n",
      "Requirement already satisfied: orjson<4.0.0,>=3.9.14 in /usr/local/lib/python3.11/dist-packages (from langsmith>=0.1.125->langchain-community) (3.10.16)\r\n",
      "Requirement already satisfied: requests-toolbelt<2.0.0,>=1.0.0 in /usr/local/lib/python3.11/dist-packages (from langsmith>=0.1.125->langchain-community) (1.0.0)\r\n",
      "Requirement already satisfied: zstandard<0.24.0,>=0.23.0 in /usr/local/lib/python3.11/dist-packages (from langsmith>=0.1.125->langchain-community) (0.23.0)\r\n",
      "Requirement already satisfied: mkl_fft in /usr/local/lib/python3.11/dist-packages (from numpy>=1.26.2->langchain-community) (1.3.8)\r\n",
      "Requirement already satisfied: mkl_random in /usr/local/lib/python3.11/dist-packages (from numpy>=1.26.2->langchain-community) (1.2.4)\r\n",
      "Requirement already satisfied: mkl_umath in /usr/local/lib/python3.11/dist-packages (from numpy>=1.26.2->langchain-community) (0.1.1)\r\n",
      "Requirement already satisfied: mkl in /usr/local/lib/python3.11/dist-packages (from numpy>=1.26.2->langchain-community) (2025.1.0)\r\n",
      "Requirement already satisfied: tbb4py in /usr/local/lib/python3.11/dist-packages (from numpy>=1.26.2->langchain-community) (2022.1.0)\r\n",
      "Requirement already satisfied: mkl-service in /usr/local/lib/python3.11/dist-packages (from numpy>=1.26.2->langchain-community) (2.4.1)\r\n",
      "Requirement already satisfied: anyio<5,>=3.5.0 in /usr/local/lib/python3.11/dist-packages (from openai<2.0.0,>=1.86.0->langchain-openai) (4.9.0)\r\n",
      "Requirement already satisfied: distro<2,>=1.7.0 in /usr/local/lib/python3.11/dist-packages (from openai<2.0.0,>=1.86.0->langchain-openai) (1.9.0)\r\n",
      "Requirement already satisfied: jiter<1,>=0.4.0 in /usr/local/lib/python3.11/dist-packages (from openai<2.0.0,>=1.86.0->langchain-openai) (0.9.0)\r\n",
      "Requirement already satisfied: sniffio in /usr/local/lib/python3.11/dist-packages (from openai<2.0.0,>=1.86.0->langchain-openai) (1.3.1)\r\n",
      "Requirement already satisfied: annotated-types>=0.6.0 in /usr/local/lib/python3.11/dist-packages (from pydantic<3,>=2->langchain-google-genai) (0.7.0)\r\n",
      "Requirement already satisfied: pydantic-core==2.33.2 in /usr/local/lib/python3.11/dist-packages (from pydantic<3,>=2->langchain-google-genai) (2.33.2)\r\n",
      "Requirement already satisfied: typing-inspection>=0.4.0 in /usr/local/lib/python3.11/dist-packages (from pydantic<3,>=2->langchain-google-genai) (0.4.0)\r\n",
      "Requirement already satisfied: charset-normalizer<4,>=2 in /usr/local/lib/python3.11/dist-packages (from requests->youtube-transcript-api) (3.4.2)\r\n",
      "Requirement already satisfied: idna<4,>=2.5 in /usr/local/lib/python3.11/dist-packages (from requests->youtube-transcript-api) (3.10)\r\n",
      "Requirement already satisfied: urllib3<3,>=1.21.1 in /usr/local/lib/python3.11/dist-packages (from requests->youtube-transcript-api) (2.4.0)\r\n",
      "Requirement already satisfied: certifi>=2017.4.17 in /usr/local/lib/python3.11/dist-packages (from requests->youtube-transcript-api) (2025.4.26)\r\n",
      "Requirement already satisfied: greenlet>=1 in /usr/local/lib/python3.11/dist-packages (from SQLAlchemy<3,>=1.4->langchain-community) (3.1.1)\r\n",
      "Requirement already satisfied: httpcore==1.* in /usr/local/lib/python3.11/dist-packages (from httpx<1,>=0.23.0->langsmith>=0.1.125->langchain-community) (1.0.7)\r\n",
      "Requirement already satisfied: h11<0.15,>=0.13 in /usr/local/lib/python3.11/dist-packages (from httpcore==1.*->httpx<1,>=0.23.0->langsmith>=0.1.125->langchain-community) (0.14.0)\r\n",
      "Requirement already satisfied: jsonpointer>=1.9 in /usr/local/lib/python3.11/dist-packages (from jsonpatch<2.0,>=1.33->langchain-core<1.0.0,>=0.3.66->langchain-community) (3.0.0)\r\n",
      "Requirement already satisfied: pyasn1<0.7.0,>=0.6.1 in /usr/local/lib/python3.11/dist-packages (from pyasn1-modules>=0.2.1->google-auth!=2.24.0,!=2.25.0,<3.0.0dev,>=2.14.1->google-ai-generativelanguage==0.6.15) (0.6.1)\r\n",
      "Requirement already satisfied: mypy-extensions>=0.3.0 in /usr/local/lib/python3.11/dist-packages (from typing-inspect<1,>=0.4.0->dataclasses-json<0.7,>=0.5.7->langchain-community) (1.1.0)\r\n",
      "Requirement already satisfied: httplib2<1.dev0,>=0.19.0 in /usr/local/lib/python3.11/dist-packages (from google-api-python-client->google-generativeai<0.9.0,>=0.8.0->langchain-google-genai) (0.22.0)\r\n",
      "Requirement already satisfied: google-auth-httplib2<1.0.0,>=0.2.0 in /usr/local/lib/python3.11/dist-packages (from google-api-python-client->google-generativeai<0.9.0,>=0.8.0->langchain-google-genai) (0.2.0)\r\n",
      "Requirement already satisfied: uritemplate<5,>=3.0.1 in /usr/local/lib/python3.11/dist-packages (from google-api-python-client->google-generativeai<0.9.0,>=0.8.0->langchain-google-genai) (4.1.1)\r\n",
      "Requirement already satisfied: intel-openmp<2026,>=2024 in /usr/local/lib/python3.11/dist-packages (from mkl->numpy>=1.26.2->langchain-community) (2024.2.0)\r\n",
      "Requirement already satisfied: tbb==2022.* in /usr/local/lib/python3.11/dist-packages (from mkl->numpy>=1.26.2->langchain-community) (2022.1.0)\r\n",
      "Requirement already satisfied: tcmlib==1.* in /usr/local/lib/python3.11/dist-packages (from tbb==2022.*->mkl->numpy>=1.26.2->langchain-community) (1.3.0)\r\n",
      "Requirement already satisfied: intel-cmplr-lib-rt in /usr/local/lib/python3.11/dist-packages (from mkl_umath->numpy>=1.26.2->langchain-community) (2024.2.0)\r\n",
      "Requirement already satisfied: pyparsing!=3.0.0,!=3.0.1,!=3.0.2,!=3.0.3,<4,>=2.4.2 in /usr/local/lib/python3.11/dist-packages (from httplib2<1.dev0,>=0.19.0->google-api-python-client->google-generativeai<0.9.0,>=0.8.0->langchain-google-genai) (3.0.9)\r\n",
      "Requirement already satisfied: intel-cmplr-lib-ur==2024.2.0 in /usr/local/lib/python3.11/dist-packages (from intel-openmp<2026,>=2024->mkl->numpy>=1.26.2->langchain-community) (2024.2.0)\r\n",
      "Downloading google_ai_generativelanguage-0.6.15-py3-none-any.whl (1.3 MB)\r\n",
      "\u001b[2K   \u001b[90m━━━━━━━━━━━━━━━━━━━━━━━━━━━━━━━━━━━━━━━━\u001b[0m \u001b[32m1.3/1.3 MB\u001b[0m \u001b[31m23.4 MB/s\u001b[0m eta \u001b[36m0:00:00\u001b[0m\r\n",
      "\u001b[?25hDownloading youtube_transcript_api-1.1.0-py3-none-any.whl (485 kB)\r\n",
      "\u001b[2K   \u001b[90m━━━━━━━━━━━━━━━━━━━━━━━━━━━━━━━━━━━━━━━━\u001b[0m \u001b[32m485.7/485.7 kB\u001b[0m \u001b[31m27.1 MB/s\u001b[0m eta \u001b[36m0:00:00\u001b[0m\r\n",
      "\u001b[?25hDownloading langchain_community-0.3.26-py3-none-any.whl (2.5 MB)\r\n",
      "\u001b[2K   \u001b[90m━━━━━━━━━━━━━━━━━━━━━━━━━━━━━━━━━━━━━━━━\u001b[0m \u001b[32m2.5/2.5 MB\u001b[0m \u001b[31m78.0 MB/s\u001b[0m eta \u001b[36m0:00:00\u001b[0m\r\n",
      "\u001b[?25hDownloading langchain_openai-0.3.24-py3-none-any.whl (68 kB)\r\n",
      "\u001b[2K   \u001b[90m━━━━━━━━━━━━━━━━━━━━━━━━━━━━━━━━━━━━━━━━\u001b[0m \u001b[32m69.0/69.0 kB\u001b[0m \u001b[31m6.0 MB/s\u001b[0m eta \u001b[36m0:00:00\u001b[0m\r\n",
      "\u001b[?25hDownloading langchain_google_genai-2.0.10-py3-none-any.whl (41 kB)\r\n",
      "\u001b[2K   \u001b[90m━━━━━━━━━━━━━━━━━━━━━━━━━━━━━━━━━━━━━━━━\u001b[0m \u001b[32m42.0/42.0 kB\u001b[0m \u001b[31m3.4 MB/s\u001b[0m eta \u001b[36m0:00:00\u001b[0m\r\n",
      "\u001b[?25hDownloading faiss_cpu-1.11.0-cp311-cp311-manylinux_2_28_x86_64.whl (31.3 MB)\r\n",
      "\u001b[2K   \u001b[90m━━━━━━━━━━━━━━━━━━━━━━━━━━━━━━━━━━━━━━━━\u001b[0m \u001b[32m31.3/31.3 MB\u001b[0m \u001b[31m56.8 MB/s\u001b[0m eta \u001b[36m0:00:00\u001b[0m\r\n",
      "\u001b[?25hDownloading python_dotenv-1.1.0-py3-none-any.whl (20 kB)\r\n",
      "Downloading filetype-1.2.0-py2.py3-none-any.whl (19 kB)\r\n",
      "Downloading google_generativeai-0.8.5-py3-none-any.whl (155 kB)\r\n",
      "\u001b[2K   \u001b[90m━━━━━━━━━━━━━━━━━━━━━━━━━━━━━━━━━━━━━━━━\u001b[0m \u001b[32m155.4/155.4 kB\u001b[0m \u001b[31m12.7 MB/s\u001b[0m eta \u001b[36m0:00:00\u001b[0m\r\n",
      "\u001b[?25hDownloading httpx_sse-0.4.0-py3-none-any.whl (7.8 kB)\r\n",
      "Downloading langchain-0.3.26-py3-none-any.whl (1.0 MB)\r\n",
      "\u001b[2K   \u001b[90m━━━━━━━━━━━━━━━━━━━━━━━━━━━━━━━━━━━━━━━━\u001b[0m \u001b[32m1.0/1.0 MB\u001b[0m \u001b[31m52.2 MB/s\u001b[0m eta \u001b[36m0:00:00\u001b[0m\r\n",
      "\u001b[?25hDownloading langchain_core-0.3.66-py3-none-any.whl (438 kB)\r\n",
      "\u001b[2K   \u001b[90m━━━━━━━━━━━━━━━━━━━━━━━━━━━━━━━━━━━━━━━━\u001b[0m \u001b[32m438.9/438.9 kB\u001b[0m \u001b[31m31.6 MB/s\u001b[0m eta \u001b[36m0:00:00\u001b[0m\r\n",
      "\u001b[?25hDownloading langsmith-0.4.1-py3-none-any.whl (364 kB)\r\n",
      "\u001b[2K   \u001b[90m━━━━━━━━━━━━━━━━━━━━━━━━━━━━━━━━━━━━━━━━\u001b[0m \u001b[32m364.6/364.6 kB\u001b[0m \u001b[31m29.6 MB/s\u001b[0m eta \u001b[36m0:00:00\u001b[0m\r\n",
      "\u001b[?25hDownloading openai-1.90.0-py3-none-any.whl (734 kB)\r\n",
      "\u001b[2K   \u001b[90m━━━━━━━━━━━━━━━━━━━━━━━━━━━━━━━━━━━━━━━━\u001b[0m \u001b[32m734.6/734.6 kB\u001b[0m \u001b[31m48.0 MB/s\u001b[0m eta \u001b[36m0:00:00\u001b[0m\r\n",
      "\u001b[?25hDownloading packaging-24.2-py3-none-any.whl (65 kB)\r\n",
      "\u001b[2K   \u001b[90m━━━━━━━━━━━━━━━━━━━━━━━━━━━━━━━━━━━━━━━━\u001b[0m \u001b[32m65.5/65.5 kB\u001b[0m \u001b[31m5.9 MB/s\u001b[0m eta \u001b[36m0:00:00\u001b[0m\r\n",
      "\u001b[?25hDownloading pydantic_settings-2.10.0-py3-none-any.whl (45 kB)\r\n",
      "\u001b[2K   \u001b[90m━━━━━━━━━━━━━━━━━━━━━━━━━━━━━━━━━━━━━━━━\u001b[0m \u001b[32m45.2/45.2 kB\u001b[0m \u001b[31m3.4 MB/s\u001b[0m eta \u001b[36m0:00:00\u001b[0m\r\n",
      "\u001b[?25hDownloading langchain_text_splitters-0.3.8-py3-none-any.whl (32 kB)\r\n",
      "Installing collected packages: filetype, python-dotenv, packaging, httpx-sse, youtube-transcript-api, pydantic-settings, openai, langsmith, langchain-core, langchain-text-splitters, langchain-openai, google-ai-generativelanguage, langchain, google-generativeai, langchain-google-genai, langchain-community, faiss-cpu\r\n",
      "  Attempting uninstall: packaging\r\n",
      "    Found existing installation: packaging 25.0\r\n",
      "    Uninstalling packaging-25.0:\r\n",
      "      Successfully uninstalled packaging-25.0\r\n",
      "  Attempting uninstall: openai\r\n",
      "    Found existing installation: openai 1.70.0\r\n",
      "    Uninstalling openai-1.70.0:\r\n",
      "      Successfully uninstalled openai-1.70.0\r\n",
      "  Attempting uninstall: langsmith\r\n",
      "    Found existing installation: langsmith 0.3.23\r\n",
      "    Uninstalling langsmith-0.3.23:\r\n",
      "      Successfully uninstalled langsmith-0.3.23\r\n",
      "  Attempting uninstall: langchain-core\r\n",
      "    Found existing installation: langchain-core 0.3.50\r\n",
      "    Uninstalling langchain-core-0.3.50:\r\n",
      "      Successfully uninstalled langchain-core-0.3.50\r\n",
      "  Attempting uninstall: langchain-text-splitters\r\n",
      "    Found existing installation: langchain-text-splitters 0.3.7\r\n",
      "    Uninstalling langchain-text-splitters-0.3.7:\r\n",
      "      Successfully uninstalled langchain-text-splitters-0.3.7\r\n",
      "  Attempting uninstall: langchain\r\n",
      "    Found existing installation: langchain 0.3.22\r\n",
      "    Uninstalling langchain-0.3.22:\r\n",
      "      Successfully uninstalled langchain-0.3.22\r\n",
      "\u001b[31mERROR: pip's dependency resolver does not currently take into account all the packages that are installed. This behaviour is the source of the following dependency conflicts.\r\n",
      "datasets 3.6.0 requires fsspec[http]<=2025.3.0,>=2023.1.0, but you have fsspec 2025.3.2 which is incompatible.\r\n",
      "cesium 0.12.4 requires numpy<3.0,>=2.0, but you have numpy 1.26.4 which is incompatible.\r\n",
      "bigframes 1.42.0 requires rich<14,>=12.4.4, but you have rich 14.0.0 which is incompatible.\r\n",
      "plotnine 0.14.5 requires matplotlib>=3.8.0, but you have matplotlib 3.7.2 which is incompatible.\r\n",
      "pandas-gbq 0.28.0 requires google-api-core<3.0.0dev,>=2.10.2, but you have google-api-core 1.34.1 which is incompatible.\r\n",
      "mlxtend 0.23.4 requires scikit-learn>=1.3.1, but you have scikit-learn 1.2.2 which is incompatible.\u001b[0m\u001b[31m\r\n",
      "\u001b[0mSuccessfully installed faiss-cpu-1.11.0 filetype-1.2.0 google-ai-generativelanguage-0.6.15 google-generativeai-0.8.5 httpx-sse-0.4.0 langchain-0.3.26 langchain-community-0.3.26 langchain-core-0.3.66 langchain-google-genai-2.0.10 langchain-openai-0.3.24 langchain-text-splitters-0.3.8 langsmith-0.4.1 openai-1.90.0 packaging-24.2 pydantic-settings-2.10.0 python-dotenv-1.1.0 youtube-transcript-api-1.1.0\r\n"
     ]
    }
   ],
   "source": [
    "!pip uninstall -y google-ai-generativelanguage google-generativeai\n",
    "!pip install \\\n",
    "  youtube-transcript-api \\\n",
    "  langchain-community \\\n",
    "  langchain-openai \\\n",
    "  langchain-google-genai \\\n",
    "  faiss-cpu \\\n",
    "  tiktoken \\\n",
    "  python-dotenv \\\n",
    "  google-ai-generativelanguage==0.6.15\n"
   ]
  },
  {
   "cell_type": "code",
   "execution_count": null,
   "id": "26ad5030",
   "metadata": {
    "execution": {
     "iopub.execute_input": "2025-06-22T23:56:46.489807Z",
     "iopub.status.busy": "2025-06-22T23:56:46.489547Z",
     "iopub.status.idle": "2025-06-22T23:56:47.947228Z",
     "shell.execute_reply": "2025-06-22T23:56:47.946672Z"
    },
    "papermill": {
     "duration": 1.467839,
     "end_time": "2025-06-22T23:56:47.948557",
     "exception": false,
     "start_time": "2025-06-22T23:56:46.480718",
     "status": "completed"
    },
    "tags": []
   },
   "outputs": [],
   "source": [
    "import os\n",
    "import google.generativeai as genai\n",
    "\n",
    "os.environ[\"GOOGLE_API_KEY\"] = \"ADD you own API key here.\"\n",
    "genai.configure(api_key=os.environ[\"GOOGLE_API_KEY\"])\n"
   ]
  },
  {
   "cell_type": "code",
   "execution_count": 3,
   "id": "ad177c9b",
   "metadata": {
    "execution": {
     "iopub.execute_input": "2025-06-22T23:56:47.966734Z",
     "iopub.status.busy": "2025-06-22T23:56:47.965870Z",
     "iopub.status.idle": "2025-06-22T23:56:49.002973Z",
     "shell.execute_reply": "2025-06-22T23:56:49.002202Z"
    },
    "papermill": {
     "duration": 1.047331,
     "end_time": "2025-06-22T23:56:49.004420",
     "exception": false,
     "start_time": "2025-06-22T23:56:47.957089",
     "status": "completed"
    },
    "tags": []
   },
   "outputs": [],
   "source": [
    "from youtube_transcript_api import YouTubeTranscriptApi, TranscriptsDisabled\n",
    "from langchain.text_splitter import RecursiveCharacterTextSplitter\n",
    "from langchain_community.vectorstores import FAISS\n",
    "from langchain_core.prompts import PromptTemplate\n",
    "from langchain_google_genai import GoogleGenerativeAIEmbeddings \n"
   ]
  },
  {
   "cell_type": "markdown",
   "id": "0c8eb825",
   "metadata": {
    "papermill": {
     "duration": 0.007772,
     "end_time": "2025-06-22T23:56:49.020596",
     "exception": false,
     "start_time": "2025-06-22T23:56:49.012824",
     "status": "completed"
    },
    "tags": []
   },
   "source": [
    "## Step 1: load transcript using yt api"
   ]
  },
  {
   "cell_type": "code",
   "execution_count": null,
   "id": "77e24efa",
   "metadata": {
    "execution": {
     "iopub.execute_input": "2025-06-22T23:56:49.037546Z",
     "iopub.status.busy": "2025-06-22T23:56:49.037349Z",
     "iopub.status.idle": "2025-06-22T23:56:49.994533Z",
     "shell.execute_reply": "2025-06-22T23:56:49.993860Z"
    },
    "papermill": {
     "duration": 0.971295,
     "end_time": "2025-06-22T23:56:49.999751",
     "exception": false,
     "start_time": "2025-06-22T23:56:49.028456",
     "status": "completed"
    },
    "tags": []
   },
   "outputs": [
    {
     "name": "stdout",
     "output_type": "stream",
     "text": [
      "the following is a conversation with demus hasabis ceo and co-founder of deepmind a company that has published and builds some of the most incredible artificial intelligence systems in the history of computing including alfred zero that learned all by itself to play the game of gold better than any human in the world and alpha fold two that solved protein folding both tasks considered nearly impossible for a very long time demus is widely considered to be one of the most brilliant and impactful humans in the history of artificial intelligence and science and engineering in general this was truly an honor and a pleasure for me to finally sit down with him for this conversation and i'm sure we will talk many times again in the future this is the lex friedman podcast to support it please check out our sponsors in the description and now dear friends here's demis hassabis let's start with a bit of a personal question am i an ai program you wrote to interview people until i get good enough to interview you well i'll be impressed if if you were i'd be impressed by myself if you were i don't think we're quite up to that yet but uh maybe you're from the future lex if you did would you tell me is that is that a good thing to tell a language model that's tasked with interviewing that it is in fact um ai maybe we're in a kind of meta turing test uh probably probably it would be a good idea not to tell you so it doesn't change your behavior right this is a kind of heisenberg uncertainty principle situation if i told you you behave differently yeah maybe that's what's happening with us of course this is a benchmark from the future where they replay 2022 as a year before ais were good enough yet and now we want to see is it going to pass exactly if i was such a program would you be able to tell do you think so to the touring test question you've talked about the benchmark for solving intelligence what would be the impressive thing you've talked about winning a nobel prize in a system winning a nobel prize but i still return to the touring test as a compelling test the spirit of the touring test is a compelling test yeah the turing test of course it's been unbelievably influential and turing's one of my all-time heroes but i think if you look back at the 1950 papers original paper and read the original you'll see i don't think he meant it to be a rigorous formal test i think it was more like a thought experiment almost a bit of philosophy he was writing if you look at the style of the paper and you can see he didn't specify it very rigorously so for example he didn't specify the knowledge that the expert or judge would have um not you know how much time would they have to investigate this so these important parameters if you were gonna make it uh a true sort of formal test um and you know some by some measures people claimed the turing test passed several you know a decade ago i remember someone claiming that with a with a kind of very bog standard normal uh logic model um because they pretended it was a it was a kid so the the judges thought that the machine you know was was a was a child so um that would be very different from an expert ai person uh interrogating a machine and knowing how it was built and so on so i think um you know we should probably move away from that as a formal test and move more towards a general test where we test the ai capabilities on a range of tasks and see if it reaches human level or above performance on maybe thousands perhaps even millions of tasks eventually and cover the entire sort of cognitive space so i think for its time it was an amazing thought experiment and also 1950s obviously it was barely the dawn of the computer age so of course he only thought about text and now um we have a lot more different inputs so yeah maybe the better thing to test is the generalizability so across multiple tasks but i think it's also possible as as systems like god show that eventually that might map right back to language so you might be able to demonstrate your ability to generalize across tasks by then communicating your ability to generalize across tasks which is kind of what we do through conversation anyway when we jump around ultimately what's in there in that conversation is not just you moving around knowledge it's you moving around like these entirely different modalities of understanding that ultimately map to your ability to to uh operate successfully in all these domains which you can think of as tasks yeah i think certainly we as humans use language as our main generalization communication tool so i think we end up thinking in language and expressing our solutions in language um so it's going to be very powerful uh uh mode in which to uh explain you know the system to explain what it's doing um but i don't think it's the only uh uh modality that matters so i think there's gonna be a lot of you know there's there's a lot of different ways to express uh capabilities uh other than just language yeah visual robotics body language um yeah action is the interactive aspect of all that that's all part of it but what's interesting with gato is that it's a it's it's it's sort of pushing prediction to the maximum in terms of like you know mapping arbitrary sequences to other sequences and sort of just predicting what's going to happen next so prediction seems to be fundamental to intelligence and what you're predicting doesn't so much matter yeah it seems like you can generalize that quite well so obviously language models predict the next word um gato predicts potentially any uh action or any token uh and it's just the beginning really it's our most general agent one could call it so far but um you know that itself can be scaled up massively more than we've done so far obviously we're in the in the middle of doing that but the big part of solving agi is creating benchmarks that help us get closer and closer sort of creating benchmarks that test the journalizability and it's just still interesting that this fella alan turing was one of the first and probably still one of the only people that was trying maybe philosophically but was trying to formulate a benchmark that could be followed it is even though it's it's fuzzy it's still sufficiently rigorous to where you can run that test and i still think something like the touring test will at the end of the day be the thing that truly impresses other humans so that you can have a close friend who's an ai system for that friend to be a good friend they're going to have to be able to uh play starcraft and they're going to have to do all of these tasks um get you a beer so the robotics tasks uh play games with you use language humor all those kinds of things but that ultimately can boil down to language it feels like not in terms of the ai community but in terms of the actual impact of general intelligence on the world it feels like language will be the place where it truly shines i think so because it's such an important kind of input output for us i think you're right i think the turing test that what the the kind of the the philosophy behind it which is the idea of can can a machine mimic the behaviors of a human and men and i would say wider than just language and text then you know in terms of actions and everything else creativity all these things then um if it can sort of match or exceed human cognitive capabilities then i think we have a you know true intelligence so i thought from that perspective you're right i think he did formulate the right uh kind of uh setup i just i think there'll be a kind of humor in the ai systems of the future looking back to this conversation and thinking about the touring test and uh also thinking about by that time they would know which year they were finally able to sort of cross the threshold of human level intelligence and think how funny it is that we humans were still confused about this whole problem that has been long ago been solved well hello to the ai agents of the future anyway so going back to your to your journey when did you fall in love with programming first well it's pretty uh pretty young age actually so um you know i started off uh actually games was my first love so starting to play chess when i was around four years old and then um it was actually with winnings from a chess competition that i managed to buy my first chess computer when i was about eight years old it was a zx spectrum which was hugely popular in the uk at the time and uh it's amazing machine because i think it trained a whole generation of programmers in the uk because it was so accessible you know you literally switched it on and there was the basic prompt and you could just get going and um my parents didn't really know anything about computers so but because it was my money from a chess competition i could i could say i i wanted to buy it uh and then you know i just went to bookstores got books on programming and um started typing in you know the programming code and and then of course um once you start doing that you start adjusting it and then making your own games and that's when i fell in love with computers and realized that they were a very magical device um in a way i kind of i would have been able to explain this at the time but i felt that they were sort of almost a magical extension of your mind i always had this feeling and i've always loved this about computers that you can set them off doing something some task for you you can go to sleep come back the next day and it's solved um you know that feels magical to me so i mean all machines do that to some extent they all enhance our natural capabilities obviously cars make us allow us to move faster than we can run but this was a machine to extend the mind and and then of course ai is the ultimate expression of what a machine may be able to do or learn so very naturally for me that thought extended into into ai quite quickly remember the the programming language that was first started special to the machine no it was just the base it was just i think it was just basic uh on the zx spectrum i don't know what specific form it was and then later on i got a commodore amiga which uh was a fantastic machine no you're just showing off so yeah well lots of my friends had atari st's and i i managed to get amigas it was a bit more powerful and uh and that was incredible and used to do um programming in assembler and and uh also amos basic this this specific form of basic it was incredible actually as well all my coding skills and when did you fall in love with ai so when did you first start to gain an understanding that you can not just write programs that do some mathematical operations for you while you sleep but something that's a keen to bringing an entity to life sort of a thing that can figure out something more complicated than uh than a simple mathematical operation yeah so there was a few stages for me all while i was very young so first of all as i was trying to improve at playing chess i was captaining various england junior chess teams and at the time when i was about you know maybe 10 11 years old i was gonna become a professional chess player that was my first thought um that dream was there sure she tried to get to the highest level yeah so i was um you know i got to when i was about 12 years old i got to master stand and i was second highest rated player in the world to judith polgar who obviously ended up being an amazing chess player and uh world women's champion and when i was trying to improve at chess where you know what you do is you obviously first of all you're trying to improve your own thinking processes so that leads you to thinking about thinking how is your brain coming up with these ideas why is it making mistakes how can you how can you improve that thought process but the second thing is that you it was just the beginning this was like in the in the early 80s mid 80s of chess computers if you remember they were physical boards like the one we have in front of us and you pressed down the you know the squares and i think kasparov had a branded version of it that i i i got and um you were you know used to they're not as strong as they are today but they were they were pretty strong and you used to practice against them um to try and improve your openings and other things and so i remember i think i probably got my first one i was around 11 or 12. and i remember thinking um this is amazing you know how how has someone programmed uh uh this this chess board to play chess uh and uh it was very formative book i bought which was called the chess computer handbook by david levy which came out in 1984 or something so i must have got it when i was about 11 12 and it explained fully how these chess programs were made i remember my first ai program being uh programming my amiga it couldn't it wasn't powerful enough to play chess i couldn't write a whole chess program but i wrote a program for it to play othello reversey it's sometimes called i think in the u.s and so a slightly simpler game than chess but i used all of the principles that chess programs had alpha beta search all of that and that was my first ai program i remember that very well was around 12 years old so that that that brought me into ai and then the second part was later on uh when i was around 1617 and i was writing games professionally designing games uh writing a game called theme park which um had ai as a core gameplay component as part of the simulation um and it sold you know millions of copies around the world and people loved the way that the ai even though it was relatively simple by today's ai standards um was was reacting to the way you as the player played it so it was called a sandbox game so it's one of the first types of games like that along with simcity and it meant that every game you played was unique is there something you could say just on a small tangent about really impressive ai from a game design human enjoyment perspective really impressive ai that you've seen in games and maybe what does it take to create ai system and how hard of a problem is that so a million questions just as a brief tangent well look i think um games uh games have been significant in my life for three reasons so first of all to to i was playing them and training myself on games when i was a kid then i went through a phase of designing games and writing ai4 games so all the games i i professionally wrote uh had ai as a core component and that was mostly in the in the 90s and the reason i was doing that in games industry was at the time the games industry i think was the cutting edge of technology so whether it was graphics with people like john carmack and quake and those kind of things or ai i think actually all the action was going on in games and and we've seen we're still reaping the benefits of that even with things like gpus which you know i find ironic was obviously invented for graphics computer graphics but then turns out to be amazingly useful for ai it just turns out everything's a matrix multiplication it appears you know in the whole world so um so i think games at the time had the most cutting edge ai and a lot of the the games uh uh we you know i was involved in writing so there was a game called black and white which was one game i was involved with in the early stages of which i still think is the most um impressive uh example of reinforcement learning in a computer game so in that game you know you trained a little pet animal uh and yeah and it sort of learned from how you were treating it so if you treated it badly then it became mean yeah and then it would be mean to to your villagers and your and your population the sort of uh the little tribe that you were running uh but if you were kind to it then it would be kind and people were fascinated by how that was and so was i to be honest with the way it kind of developed and um especially the mapping to good and evil yeah it made you made you realize made me realize that you can sort of in the way in the choices you make can define uh the where you end up and that means all of us are capable of the good uh evil it all matters in uh the different choices along the trajectory to those places that you make it's fascinating i mean games can do that philosophically to you and it's rare it seems rare yeah well games are i think a unique medium because um you as the player you're not just passively consuming the the entertainment right you're actually actively involved as an as a as an agent so i think that's what makes it in some ways can be more visceral than other other mediums like you know films and books so the second so that was you know designing ai and games and then the third use uh uh i've we've used of ai is in deep mind from the beginning which is using games as a testing ground for proving out ai algorithms and developing ai algorithms and that was a that was a sort of um a core component of our vision at the start of deepmind was that we would use games very heavily uh as our main testing ground certainly to begin with um because it's super efficient to use games and also you know it's very easy to have metrics to see how well your systems are improving and what direction your ideas are going in and whether you're making incremental improvements and because those games are often rooted in something that humans did for a long time beforehand there's already a strong set of rules like it's already a damn good benchmark yes it's really good for so many reasons because you've got you've got you've got clear measures of how good humans can be at these things and in some cases like go we've been playing it for thousands of years um and and uh often they have scores or at least win conditions so it's very easy for reward learning systems to get a reward it's very easy to specify what that reward is um and uh also at the end it's easy to you know to test uh externally you know how strong is your system by of course playing against you know the world's strongest players at those games so it's it's so good for so many reasons and it's also very efficient to run potentially millions of simulations in parallel on the cloud so um i think there's a huge reason why we were so successful back in you know starting out 2010 how come we were able to progress so quickly because we'd utilize games and um you know at the beginning of deep mind we also hired some amazing game engineers uh who i knew from my previous uh lives in the games industry and uh and that helped to bootstrap us very quickly and plus it's somehow super compelling almost at a philosophical level of man versus machine over over a chessboard or a go board and especially given that the entire history of ai is defined by people saying it's going to be impossible to make a machine that beats a human being in chess and then once that happened people were certain when i was coming up in ai that go is not a game that could be solved because of the combinatorial complexity it's just too it's it's it's you know no matter how much moore's law you have compute is just never going to be able to crack the game of go yeah and so that then there's something compelling about facing sort of taking on the impossibility of that task from the ai researcher perspective engineer perspective and then as a human being just observing this whole thing your beliefs about what you thought was impossible being broken apart it's it's uh humbling to realize we're not as smart as we thought it's humbling to realize that the things we think are impossible now perhaps will be done in the future there's something really powerful about a game ai system being a human being in a game that drives that message uh home for like millions billions of people especially in the case of go sure well look i think it's a i mean it has been a fascinating journey and and especially as i i think about it from i can understand it from both sides both as the ai you know creators of the ai um but also as a games player originally so you know it was a it was a really interesting it was i mean it was a fantastic um but also somewhat bittersweet moment the alphago match for me um uh seeing that and and and being obviously heavily heavily involved in that um but you know as you say chess has been uh the i mean kasparov i think rightly called it the drosophila of of intelligence right so it's sort of i i love that phrase and and i think he's right because chess has been um hand in hand with ai from the beginning of the the whole field right so i think every ai practitioner starting with turing and claude shannon and all those uh the sort of forefathers of of of of the field um tried their hand at writing a chess program uh i've got original audition of claude shannon's first chess program i think it was 1949 uh the the original sort of uh paper and um they all did that and turing famously wrote a chess program that but all the computers around there were obviously too slow to run it so he had to run he had to be the computer right so he literally i think spent two or three days running his own program by hand with pencil and paper and playing playing a friend of his uh with his chess program so of course deep blue was a huge moment uh beating off um but actually when that happened i remember that very very vividly of course because it was you know chess and computers and ai all the things i loved and i was at college at the time but i remember coming away from that being more impressed by kasparov's mind than i was by deep blue because here was kasparov with his human mind not only could he play chess more or less to the same level as this brute of a calculation machine um but of course kasparov can do everything else humans can do ride a bike talk many languages do politics all the rest of the amazing things that kasparov does and so with the same brain yeah and and yet deep blue uh brilliant as it was at chess it had been hand coded for chess and um actually had distilled the knowledge of chess grand masters uh into into a cool program but it couldn't do anything else like it couldn't even play a strictly simpler game like tic-tac-toe so um something to me was missing from um intelligence from that system that we would regard as intelligence and i think it was this idea of generality and and also learning yeah um so and that's what we tried to do out with alphago yeah we alphago and alpha zero mu zero and then got on all the things that uh we'll get into some parts of there's just a fascinating trajectory here but let's just stick on chess briefly uh on the human side of chess you've proposed that from a game design perspective the thing that makes chess compelling as a game uh is that there's a creative tension between a bishop and the knight can you explain this first of all it's really interesting to think about what makes the game compelling makes it stick across centuries yeah i was sort of thinking about this and actually a lot of even amazing chess players don't think about it necessarily from a games designer point of view so it's with my game design hat on that i was thinking about this why is chess so compelling and i think a critical uh reason is the the dynamicness of of of the different kind of chess positions you can have whether they're closed or open and other things comes from the bishop and the night so if you think about how different the the the capabilities of the bishop and knight are in terms of the way they move and then somehow chess has evolved to balance those two capabilities more or less equally so they're both roughly worth three points each so you think that dynamics was always there and then the rest of the rules are kind of trying to stabilize the game well maybe i mean it's sort of i don't know his chicken and egg situation probably both came together but the fact that it's got to this beautiful equilibrium where you can have the bishop and knight they're so different in power um but so equal in value across the set of the universe of all positions right somehow they've been balanced by humanity over hundreds of years um i think gives gives the game the creative tension uh that you can swap the bishop and knights uh for a bishop for a knight and you you they're more or less worth the same but now you aim for a different type of position if you have the knight you want a closed position if you have the bishop you want an open position so i think that creates a lot of the creative tension in chess so some kind of controlled creative tension from an ai perspective do you think ai systems convention design games that are optimally compelling to humans well that's an interesting question you know sometimes i get asked about ai and creativity and and this and the way i answered that is relevant to that question which is that i think they're different levels of creativity one could say so i think um if we define creativity as coming up with something original right that's that's useful for a purpose then you know i think the kind of lowest level of creativity is like an interpolation so an averaging of all the examples you see so maybe a very basic ai system could say you could have that so you show it millions of pictures of cats and then you say give me an average looking cat right generate me an average looking cat i would call that interpolation then there's extrapolation which something like alphago showed so alphago played you know millions of games of go against itself and then it came up with brilliant new ideas like move 37 in game two bringing a motif strategies and go that that no humans had ever thought of even though we've played it for thousands of years and professionally for hundreds of years so that that i call that extrapolation but then that's still there's still a level above that which is you know you could call out the box thinking or true innovation which is could you invent go right could you invent chess and not just come up with a brilliant chess move or brilliant go move but can you can you actually invent chess or something as good as chess or go and i think one day uh ai could but what's missing is how would you even specify that task to a a program right now and the way i would do it if i was best telling a human to do it or a games designer a human games designer to do it is i would say something like go i would say um come up with a game that only takes five minutes to learn which go does because it's got simple rules but many lifetimes to master right or impossible to master in one lifetime because so deep and so complex um and then it's aesthetically beautiful uh and also uh it can be completed in three or four hours of gameplay time which is you know useful for our us you know in in a human day and so um you might specify these side of high level concepts like that and then you know with that and maybe a few other things uh one could imagine that go satisfies uh those those constraints um but the problem is is that we we're not able to specify abstract notions like that high-level abstract notions like that yet to our ai systems um and i think there's still something missing there in terms of um high-level concepts or abstractions that they truly understand and that you know combinable and compositional um so for the moment i think ai is capable of doing interpolation extrapolation but not true invention so coming up with rule sets uh and optimizing with complicated objectives around those rule sets we can't currently do but you could take a specific rule set and then run a kind of self-play experiment to see how long just observe how an ai system from scratch learns how long is that journey of learning and maybe if it satisfies some of those other things you mentioned in terms of quickness to learn and so on and you could see a long journey to master for even an ai system then you could say that this is a promising game um but it would be nice to do almost like alpha codes or programming rules so generating rules that kind of uh that automate even that part of the generation of rules so i have thought about systems actually um that i think would be amazing in in for a games designer if you could have a system that um takes your game plays it tens of millions of times maybe overnight and then self balances the rules better so it tweaks the the rules and the maybe the equations and the and the and the parameters so that the game uh is more balanced the units in the game or some of the rules could be tweaked so it's a bit of like a giving a base set and then allowing a monte carlo tree search or something like that to sort of explore it right and i think that would be super super a powerful tool actually for for balancing auto balancing a game which usually takes thousands of hours from hundreds of games human games testers normally to to balance some one you know game like starcraft which is you know blizzard are amazing at balancing their games but it takes them years and years and years so one could imagine at some point when this uh this stuff becomes uh efficient enough to you know you might be able to do that like overnight do you think a game that is optimal designed by an ai system would look very much like uh planet earth maybe maybe it's only the sort of game i would love to make is is and i've tried you know my in my game's career the games design career you know my first big game was designing a theme park an amusement park then uh with games like republic i tried to you know have games where we designed whole cities and and allowed you to play in so and of course people like will wright have written games like sim earth uh trying to simulate the whole of earth pretty tricky but um i see earth i haven't actually played that one so what is it does it incorporative evolution or yeah it has evolution and it's sort of um it tries to it sort of treats it as an entire biosphere but from quite a high level so nice to be able to sort of zoom in zoom out zoom in exactly so obviously he couldn't do that was in the night i think he wrote that in the 90s so it couldn't you know it wasn't it wasn't able to do that but that that would be uh obviously the ultimate sandbox game of course on that topic do you think we're living in a simulation yes well so okay so i'm gonna jump around from the absurdly philosophical to the short term sure very very happy to so i think uh my answer to that question is a little bit complex because uh there is simulation theory which obviously nick bostrom i think famously first proposed um and uh i don't quite believe it in in that sense so um in the in the sense that uh are we in some sort of computer game or have our descendants somehow recreated uh uh earth in the you know 21st century and and some for some kind of experimental reason i think that um but i do think that we that that we might be that the best way to understand physics and the universe is from a computational perspective so understanding it as an information universe and actually information being the most fundamental unit of uh reality rather than matter or energy so a physicist would say you know matter or energy you know e equals m c squared these are the things that are are the fundamentals of the universe i'd actually say information um which of course itself can be can specify energy or matter right matter is actually just you know we're we're just out the way our bodies and all the molecules in our body arrange is information so i think information may be the most fundamental way to describe the universe and therefore you could say we're in some sort of simulation because of that um but i don't i do i'm not i'm not really a subscriber to the idea that um you know these are sort of throw away billions of simulations around i think this is actually very critical and possibly unique this simulation particular one yes so but and you just mean treating the universe as a computer that's processing and modifying information is is a good way to solve the problems of physics of chemistry of biology and perhaps of humanity and so on yes i think understanding physics in terms of information theory uh might be the best way to to really uh understand what's going on here from our understanding of a universal turing machine from our understanding of a computer do you think there's something outside of the capabilities of a computer that is present in our universe you have a disagreement with roger penrose the nature of consciousness he he thinks that consciousness is more than just a computation uh do you think all of it the whole shebang is can be can be a competition yeah i've had many fascinating debates with uh sir roger penrose and obviously he's he's famously and i read you know emperors of new mind and and um and his books uh his classical books uh and they they were pretty influential and you know in the 90s and um he believes that there's something more you know something quantum that is needed to explain consciousness in the brain um i think about what we're doing actually at deepmind and what my career is being we're almost like true rings champion so we are pushing turing machines or classical computation to the limits what are the limits of what classical computing can do now um and at the same time i've also studied neuroscience to see and that's why i did my phd in was to see also to look at you know is there anything quantum in the brain from a neuroscience or biological perspective and um and so far i think most neuroscientists and most mainstream biologists and neuroscientists would say there's no evidence of any quantum uh systems or effects in the brain as far as we can see it's it can be mostly explained by classical uh classical theories so and then so there's sort of the the search from the biology side and then at the same time there's the raising of the water uh at the bar from what classical turing machines can do uh uh and and you know including our new ai systems and uh as you alluded to earlier um you know i think ai especially in the last decade plus has been a continual story now of surprising uh events uh and surprising successes knocking over one theory after another of what was thought to be impossible you know from go to protein folding and so on and so i think um i would be very hesitant to bet against how far the uh universal turing machine and classical computation paradigm can go and and my betting would be that all of certainly what's going on in our brain uh can probably be mimicked or or approximated on a on a classical machine um not you know not requiring something metaphysical or quantum and we'll get there with some of the work with alpha fold which i think begins the journey of modeling this beautiful and complex world of biology so you think all the magic of the human mind comes from this just a few pounds of mush of a biological computational mush that's akin to some of the neural networks not directly but in spirit that deep mind has been working with well look i think it's um you say it's a few you know of course it's this is the i think the biggest miracle of the universe is that um it is just a few pounds of mush in our skulls and yet it's also our brains are the most complex objects in the in that we know of in the universe so there's something profoundly beautiful and amazing about our brains and i think that it's an incredibly uh incredible efficient machine and and uh uh and it's a is you know phenomenal basically and i think that building ai one of the reasons i want to build ai and i've always wanted to is i think by building an intelligent artifact like ai and then comparing it to the human mind um that will help us unlock the uniqueness and the true secrets of the mind that we've always wondered about since the dawn of history like consciousness dreaming uh creativity uh emotions what are all these things right we've we've wondered about them since since the dawn of humanity and i think one of the reasons and you know i love philosophy and philosophy of mind is we found it difficult is there haven't been the tools for us to really other than introspection to from very clever people in in history very clever philosophers to really investigate this scientifically but now suddenly we have a plethora of tools firstly we have all the neuroscience tools fmri machines single cell recording all of this stuff but we also have the ability computers and ai to build uh intelligent systems so i think that um uh you know i think it is amazing what the human mind does and um and and i'm kind of in awe of it really and uh and i think it's amazing that without human minds we're able to build things like computers and and actually even you know think and investigate about these questions i think that's also a testament to the human mind yeah the universe built the human mind that now is building computers that help us understand both the universe and our own human mind right that's exactly it i mean i think that's one you know one could say we we are maybe we're the mechanism by which the universe is going to try and understand itself yeah it's beautiful so let's let's go to the basic building blocks of biology that i think is another angle at which you can start to understand the human mind the human body which is quite fascinating which is from the basic building blocks start to simulate start to model how from those building blocks you can construct bigger and bigger more complex systems maybe one day the entirety of the human biology so here's another problem that thought to be impossible to solve which is protein folding and alpha fold or specific alpha fold 2 did just that it solved protein folding i think it's one of the biggest breakthroughs uh certainly in the history of structural biology but uh in general in in science um maybe from a high level what is it and how does it work and then we can ask some fascinating sure questions after sure um so maybe like to explain it uh to people not familiar with protein folding is you know i first of all explain proteins which is you know proteins are essential to all life every function in your body depends on proteins sometimes they're called the workhorses of biology and if you look into them and i've you know obviously as part of alpha fold i've been researching proteins and and structural biology for the last few years you know they're amazing little bio nano machines proteins they're incredible if you actually watch little videos of how they work animations of how they work and um proteins are specified by their genetic sequence called the amino acid sequence so you can think of those their genetic makeup and then in the body uh in in nature they when they when they fold up into a 3d structure so you can think of it as a string of beads and then they fold up into a ball now the key thing is you want to know what that 3d structure is because the structure the 3d structure of a protein is what helps to determine what does it do the function it does in your body and also if you're interested in drug drugs or disease you need to understand that 3d structure because if you want to target something with a drug compound or about to block that something the protein is doing uh you need to understand where it's going to bind on the surface of the protein so obviously in order to do that you need to understand the 3d structure so the structure is mapped to the function the structure is mapped to the function and the structure is obviously somehow specified by the by the amino acid sequence and that's the in essence the protein folding problem is can you just from the amino acid sequence the one-dimensional string of letters can you immediately computationally predict the 3d structure right and this has been a grand challenge in biology for over 50 years so i think it was first articulated by christian anfinsen a nobel prize winner in 1972 uh as part of his nobel prize winning lecture and he just speculated this should be possible to go from the amino acid sequence to the 3d structure we didn't say how so i you know it's been described to me as equivalent to fermat's last theorem but for biology right you should as somebody that uh very well might win the nobel prize in the future but outside of that you should do more of that kind of thing in the margins just put random things that will take like 200 years to solve set people off for 200 years it should be possible exactly and just don't give any interest exactly i think everyone's exactly should be i'll have to remember that for future so yeah so he set off you know with this one throwaway remark just like fermat you know he he set off this whole 50-year uh uh uh field really of computational biology and and they had you know they got stuck they hadn't really got very far with doing this and and um until now until alpha fold came along this is done experimentally right very painstakingly so the rule of thumb is and you have to like crystallize the protein which is really difficult some proteins can't be crystallized like membrane proteins and then you have to use very expensive electron microscopes or x-ray crystallography machines really painstaking work to get the 3d structure and visualize the 3d structure so the rule of thumb in in experimental biology is that it takes one phd student their entire phd to do one protein uh and with alpha fold two we were able to predict the 3d structure in a matter of seconds um and so we were you know over christmas we did the whole human proteome or every protein in the human body all 20 000 proteins so the human proteins like the equivalent of the human genome but on protein space and uh and sort of revolutionize really what uh a structural biologist can do because now um they don't have to worry about these painstaking experimentals you know should they put all of that effort in or not they can almost just look up the structure of their proteins like a google search and so there's a data set on which it's trained and how to map this amino acids because first of all it's incredible that a protein this little chemical computer is able to do that computation itself in some kind of distributed way and do it very quickly that's a weird thing and they evolved that way because you know in the beginning i mean that's a great invention just the protein itself yes i mean and then they there's i think probably a history of like uh they evolved to have many of these proteins and those proteins figure out how to be computers themselves in such a way that you can create structures that can interact in complexes with each other in order to form high level functions i mean it's a weird system that they figured it out well for sure i mean we you know maybe we should talk about the origins of life too but proteins themselves i think are magical and incredible uh uh uh as i said little little bio-nano machines and um and and actually levantal who is another scientist uh uh a contemporary of anfinsen uh he he coined this eleventh house what became known as levantal's paradox which is exactly what you're saying he calculated roughly a protein an average protein which is maybe 2 000 amino acids bases long is um is is can fold in maybe 10 to the power 300 different conformations so there's 10 to the power 300 different ways that protein could fold up and yet somehow in nature physics solves this solves this in a matter of milliseconds so proteins fold up in your body in you know sometimes in fractions of a second so physics is somehow solving that search problem and just to be clear in many of these cases maybe you correct me if i'm wrong there's often a unique way for that sequence to form itself yes so among that huge number of possibilities yes it figures out a way how to stability uh in some cases there might be a misfunction so on which leads to a lot of the disorders and stuff like that but yes most of the time it's a unique mapping and that unique mapping is not obvious no exactly that's just what the problem is exactly so there's a unique mapping usually in a healthy in if it's healthy and as you say in disease so for example alzheimer's one one one conjecture is that it's because of a misfolded protein a protein that folds in the wrong way amyloid beta protein so um and then because it falls in the wrong way it gets tangled up right in your in your neurons so um it's super important to understand both healthy functioning and also disease is to understand uh you know what what these things are doing and how they're structuring of course the next step is sometimes proteins change shape when they interact with something so um they're not just static necessarily in in biology maybe you can give some interesting sort of beautiful things to you about these early days of alpha fold of of solving this problem because unlike games this is real physical systems that are less amenable to self-play type of mechanisms the the size of the data set is smaller that you might otherwise like so you have to be very clever about certain things is there something you could speak to um what was very hard to solve and what are some beautiful aspects about the the solution yeah i would say alpha fold is the most complex and also probably most meaningful system we've built so far so it's been an amazing time actually in the last you know two three years to see that come through because um as we talked about earlier you know games is what we started on uh building things like alphago and alpha zero but really the ultimate goal was to um not just to crack games it was just to to to build use them to bootstrap general learning systems we could then apply to real world challenges specifically my passion is scientific challenges like protein folding and then alpha fold of course is our first big proof point of that and so um you know in terms of the data uh and the amount of innovations that had to go into it we you know it was like more than 30 different component algorithms needed to be put together to crack the protein folding um i think some of the big innovations were that um kind of building in some hard coded constraints around physics and evolutionary biology um to constrain sort of things like the bond angles uh uh in the in the in the protein and things like that um a lot but not to impact the learning system so still allowing uh the system to be able to learn the physics uh itself um from the examples that we had and the examples as you say there are only about 150 000 proteins even after 40 years of experimental biology only around 150 000 proteins have been the structures have been found out about so that was our training set which is um much less than normally we would like to use but using various tricks things like self distillation so actually using alpha folds predictions um some of the best predictions that it thought was highly confident in we put them back into the training set right to make the training set bigger that was critical to to alpha fold working so there was actually a huge number of different um uh innovations like that that were required to to ultimately crack the problem after fold one what it produced was a distagram so a kind of a matrix of the pairwise distances between all of the molecules in the in the in the protein and then there had to be a separate optimization process to uh create the 3d structure and what we did for alpha volt2 is make it truly end to end so we went straight from the amino acid sequence of of of bases to the 3d structure directly without going through this intermediate step and in machine learning what we've always found is that the more end to end you can make it the better the system and it's probably because um we you know the in the end the system is better at learning what the constraints are than than we are as the human designers of specifying it so anytime you can let it flow end to end and actually just generate what it is you're really looking for in this case the 3d structure you're better off than having this intermediate step which you then have to hand craft the next step for so so it's better to let the gradients and the learning flow all the way through the system um from the end point the end output you want to the inputs so that's a good way to start a new problem handcraft a bunch of stuff add a bunch of manual constraints with a small intent learning piece or a small learning piece and grow that learning piece until it consumes the whole thing that's right and so you can also see you know this is a bit of a method we've developed over doing many sort of successful outfits we call them alpha x projects right is and the easiest way to see that is the evolution of alphago to alpha zero so alphago was um a learning system but it was specifically trained to only play go right so uh and what we wanted to do with first version of go is just get to world champion performance no matter how we did it right and then and then of course alphago zero we we we removed the need to use human games as a starting point right so it could just play against itself from random starting point from the beginning so that removed the the need for human knowledge uh about go and then finally alpha zero then generalized it so that any things we had in there the system including things like symmetry of the go board uh were removed so the alpha zero could play from scratch any two player game and then mu0 which is the final latest version of that set of things was then extending it so that you didn't even have to give it the rules of the game it would learn that for itself so it could also deal with computer games as well as board games so that line of alpha golf goes zero alpha zero mu zero that's the full trajectory of what you can take from uh imitation learning to full self supervised learning yeah exactly and learning learning uh the entire structure of the environment you put in from scratch right and and and and bootstrapping it uh through self-play uh yourself but the thing is it would have been impossible i think or very hard for us to build alpha zero or mu0 first out of the box even psychologically because you have to believe in yourself for a very long time you're constantly dealing with doubt because a lot of people say that it's impossible exactly so it was hard enough just to do go as you were saying everyone thought that was impossible or at least a decade away um from when we when we did it back in 2015 24 you know 2016 and um and so yes it would have been psychologically probably very difficult as well as the fact that of course we learnt a lot by building alphago first right so it's i think this is why i call ai in engineering science it's one of the most fascinating science disciplines but it's also an engineering science in the sense that unlike natural sciences um the phenomenon you're studying it doesn't exist out in nature you have to build it first so you have to build the artifact first and then you can study how how and pull it apart and how it works this is tough to uh ask you this question because you probably will say it's everything but let's let's try let's try to think to this because you're in a very interesting position where deepmind is the place of some of the most uh brilliant ideas in the history of ai but it's also a place of brilliant engineering so how much of solving intelligence this big goal for deepmind how much of it is science how much is engineering so how much is the algorithms how much is the data how much is the hardware compute infrastructure how much is it the software computer infrastructure yeah um what else is there how much is the human infrastructure and like just the humans interact in certain kinds of ways in all the space of all those ideas how much does maybe like philosophy how much what's the key if um uh if if you were to sort of look back like if we go forward 200 years look back what was the key thing that solved intelligence is that ideas i think it's a combination first of all of course it's a combination of all those things but the the ratios of them changed over over time so yeah so um even in the last 12 years so we started deep mine in 2010 which is hard to imagine now because 2010 it's only 12 short years ago but nobody was talking about ai uh you know if you remember back to your mit days you know no one was talking about it i did a postdoc at mit back around then and it was sort of thought of as a well look we know ai doesn't work we tried this hard in the 90s at places like mit mostly losing using logic systems and old-fashioned sort of good old-fashioned ai we would call it now um people like minsky and and and patrick winston and you know all these characters right and used to debate a few of them and they used to think i was mad thinking about that some new advance could be done with learning systems and um i was actually pleased to hear that because at least you know you're on a unique track at that point right even if every all of your you know professors are telling you you're mad that's true and of course in industry uh you can we couldn't get you know as difficult to get two cents together uh and which is hard to imagine now as well given it's the biggest sort of buzzword in in vcs and and fundraising's easy and all these kind of things today so back in 2010 it was very difficult and what we the reason we started then and shane and i used to discuss um uh uh what were the sort of founding tenets of deep mind and it was very various things one was um algorithmic advances so deep learning you know jeff hinton and cohen just had just sort of invented that in academia but no one in industry knew about it uh we love reinforcement learning we thought that could be scaled up but also understanding about the human brain had advanced um quite a lot uh in the decade prior with fmri machines and other things so we could get some good hints about architectures and algorithms and and sort of um representations maybe that the brain uses so as at a systems level not at a implementation level um and then the other big things were compute and gpus right so we could see a compute was going to be really useful and it got to a place where it became commoditized mostly through the games industry and and that could be taken advantage of and then the final thing was also mathematical and theoretical definitions of intelligence so things like ai xi aix which uh shane worked on with his supervisor marcus hutter which is a sort of theoretical uh proof really of universal intelligence um which is actually a reinforcement learning system um in the limit i mean it assumes infinite compute and infinite memory in the way you know like a turing machine proof but i was also waiting to see something like that too to you know like turing machines uh and and computation theory that people like turing and shannon came up with underpins modern computer science um uh you know i was waiting for a theory like that to sort of underpin agi research so when i you know met shane and saw he was working on something like that you know that to me was a sort of final piece of the jigsaw so in the early days i would say that ideas were the most important uh you know and for us it was deep reinforcement learning scaling up deep learning um of course we've seen transformers so huge leaps i would say you know three or four from for if you think from 2010 until now uh huge evolutions things like alphago um and um and and maybe there's a few more still needed but as we get closer to ai agi um i think engineering becomes more and more important and data because scale and of course the the recent you know results of gpt3 and all the big language models and large models including our ones uh has shown that scale is a is and large models are clearly going to be unnecessary but perhaps not sufficient part of an agi solution and throughout that like you said and i'd like to give you a big thank you you're one of the pioneers in this is sticking by ideas like reinforcement learning that this can actually work given actually limited success in the past and also which we still don't know but proudly having the best researchers in the world and talking about solving intelligence so talking about whatever you call it agi or something like this that speaking of mit that's that's just something not you wouldn't bring up no uh not not maybe you did in uh like 40 50 years ago but that was um ai was a place where you do tinkering very small scale not very ambitious projects and maybe the biggest ambitious projects were in the space of robotics and doing like the darpa challenge sure but the task of solving intelligence and believing you can that's really really powerful so in order for engineering to do its work to have great engineers build great systems you have to have that belief that threats throughout the whole thing that you can actually solve some of these impossible challenges yeah that's right and and back in 2010 you know our mission statement um and still is today you know it was used to be uh solving step one solve intelligence step two use it to solve everything else yes so if you can imagine pitching that to a vc in 2010 you know the kind of looks we we got we managed to you know find a few uh kooky people to back us but it was uh it was tricky and and i and i got to the point where we we wouldn't mention it to any of our professors because they would just eye roll and think we you know committed career suicide and and uh and and you know so it was there's a lot of things that we had to do but we always believed it and one reason you know by the way one reason we i believe i've always believed in reinforcement learning is that that if you look at neuroscience that is the way that the you know primate brain learns one of the main mechanisms is the dopamine system implement some form of td learning a very famous result in the late 90s uh where they saw this in monkeys and uh and as a you know proper game prediction error so we you know again in the limit this is this is what i think you can use neuroscience for is is you know any at mathematics you when you're when you're doing something as ambitious as trying to solve intelligence and you're you're you know it's blue sky research no one knows how to do it you you you need to use any evidence or any source of information you can to help guide you in the right direction or give you confidence you're going in the right direction so so that that was one reason we pushed so hard on that and that's and just going back to your early question about organization the other big thing that i think we innovated with at deepmind to encourage invention and and uh and innovation was the multi-disciplinary organization we built and we still have today so deepmind originally was a confluence of the of the most cutting-edge knowledge in neuroscience with machine learning engineering and mathematics right and and gaming and then since then we built that out even further so we have philosophers here and and uh by you know ethicists but also other types of scientists physicists and so on um and that's what brings together i tried to build a sort of um new type of bell labs but in this golden era right uh and and a new expression of that um to try and uh foster this incredible sort of innovation machine so talking about the humans in the machine the mind itself is a learning machine with a lots of amazing human minds in it coming together to try and build these uh learning systems if we return to the big ambitious dream of alpha fold that may be the early steps on a very long journey in um in biology do you think the same kind of approach can use to predict the structure and function of more complex biological systems so multi-protein interaction and then i mean you can go out from there just simulating bigger and bigger systems that eventually simulate something like the human brain or the human body just the big mush the mess of the beautiful resilient mesobiology do do you see that as a long-term vision i do and i think um you know if you think about what are the things top things i wanted to apply ai ai2 once we had powerful enough systems biology and curing diseases and understanding biology uh was right up there you know top of my list that's one of the reasons i personally pushed that myself and with alpha fold but i think alpha fold uh amazing as it is is just the beginning um and and and i hope it's evidence of uh what could be done with computational methods so um you know alpha fold solve this this huge problem of the structure of proteins but biology is dynamic so really what i imagine from here we're working on all these things now is protein protein interaction uh protein ligand binding so reacting with molecules um then you want to get build up to pathways and then eventually a virtual cell that's my dream uh maybe in the next 10 years and i've been talking actually to a lot of biologists friends of mine paul nurse who runs the qrik institute amazing biologist nobel prize winning biologist we've been discussing for 20 years now virtual cells could you build a virtual simulation of a cell and if you could that would be incredible for biology and disease discovery because you could do loads of experiments on the virtual cell and then only at the last stage validate it in the wet lab so you could you know in terms of the search space of discovering new drugs you know it takes 10 years roughly to go from uh uh to to go from uh you know identifying a target to uh having a drug candidate um maybe that could be shortened to you know by an order of magnitude with if you could do most of that that that work in silico so in order to get to a virtual cell we have to build up uh uh understanding of different parts of biology and the interactions and and um so you know every every few years we talk about this with i talked about this with paul and then finally last year after alpha fault i said now is the time we can finally go for it and and alpha falls the first proof point that this might be possible uh and he's very excited when we have some collaborations with his with his lab they're just across the road actually from us as you know wonderful being here in king's cross with the quick institute across the road and um and i think the next steps you know i think there's going to be some amazing advances in biology built on top of things like alpha fold uh we're already seeing that with the community doing that after we've open sourced it and released it um and uh you know i also i often say that i think uh if you think of mathematics is the perfect description language for physics i think ai might be end up being the perfect description language for biology because biology is so messy it's so emergent so dynamic and complex um i think i find it very hard to believe we'll ever get to something as elegant as newton's laws of motions to describe a cell right it's just too complicated um so i think ai is the right tool for this you have to uh you have to start at the basic building blocks and use ai to run the simulation for all those building blocks so have a very strong way to do prediction of what given these building blocks what kind of biology how the the function and the evolution of that biological system it's almost like a cellular automata you have to run you can't analyze it from a high level you have to take the basic ingredients figure out the rules yeah and let it run but in this case the rules are very difficult to figure out yes yes learn them that's exactly it so it's the biology is too complicated to figure out the rules it's it's it's too emergent too dynamic say compared to a physics system like the motion of a planet yeah right and and so you have to learn the rules and that's exactly the type of systems that we're building so you you mentioned you've open sourced alpha fold and even the data involved to me personally also really happy and a big thank you for open sourcing mijoko uh the physics simulation engine that's that's often used for robotics research and so on so i think that's a pretty gangster move uh so what what's the what's i mean this uh very few companies or people would do that kind of thing what's the philosophy behind that you know it's a case-by-case basis and in both those cases we felt that was the maximum benefit to humanity to do that and and the scientific community in one case the robotics uh physics community with mojoco so purchased it we purchased to obs we purchased it for the express principle to open source it so um so you know i hope people appreciate that it's great to hear that you do and then the second thing was and mostly we did it because the person building it is uh uh would not it was not able to cope with supporting it anymore because it was it got too big for him his amazing professor uh who who built it in the first place so we helped him out with that and then with alpha folds even bigger i would say and i think in that case we decided that there were so many downstream applications of alpha fold um that we couldn't possibly even imagine what they all were so the best way to accelerate uh drug discovery and also fundamental research would be to to um give all that data away and and and the and the and the system itself um you know it's been so gratifying to see what people have done that within just one year which is a short amount of time in science and uh it's been used by over 500 000 researchers have used it we think that's almost every biologist in the world i think there's roughly 500 000 biologists in the world professional biologists have used it to to look at their proteins of interest we've seen amazing fundamental research done so a couple of weeks ago front cover there was a whole special issue of science including the front cover which had the nuclear pore complex on it which is one of the biggest proteins in the body the nuclear poor complex is a protein that governs all the nutrients going in and out of your cell nucleus so they're like little hole gateways that open and close to let things go in and out of your cell nucleus so they're really important but they're huge because they're massive doughnut rings shaped things and they've been looking to try and figure out that structure for decades and they have lots of you know experimental data but it's too low resolution there's bits missing and they were able to like a giant lego jigsaw puzzle use alpha fold predictions plus experimental data and combined those two independent sources of information uh actually four different groups around the world were able to put it together the sec more or less simultaneously using alpha fault predictions so that's been amazing to see and pretty much every pharma company every drug company executive i've spoken to has said that their teams are using alpha fold to accelerate whatever drugs uh uh they're trying to discover so i think the knock-on effect has been enormous in terms of uh the impact that uh alpha-fold has made and it's probably bringing in it's creating biologists it's bringing more people into the field um both on the excitement and both on the technical skills involved and um it's almost like uh a gateway drug to biology yes it is you get more computational people involved too hopefully and and i think for us you know the next stage as i said you know in future we have to have other considerations too we're building on top of alpha fold and these other ideas i discussed with you about protein protein interactions and and genomics and other things and not everything will be open source some of it will will do commercially because that will be the best way to actually get the most resources and impact behind it in other ways some other projects will do non-profit style um and also we have to consider for future things as well safety and ethics as well like but you know synthetic biology there are you know there is dual use and we have to think about that as well with alpha fold we you know we consulted with 30 different bioethicists and and other people expert in this field to make sure it was safe before um we released it so there'll be other considerations in future but for right now you know i think alpha fold is a kind of a gift from us to to to the scientific community so i'm pretty sure that something like alpha fold uh would be part of nobel prizes in the future but us humans of course are horrible with credit assignment so we'll of course give it to the humans do you think there will be a day when ai system can't be denied that it earned that nobel prize do you think we'll see that in 21st century it depends what type of ais we end up building right whether they're um you know goal seeking agents who specifies the goals uh who comes up with the hypotheses who you know who determines which problems to tackle right so i think it's about an announcement yeah so it's announcing the results exactly as part of it um so i think right now of course it's it's it's it's amazing human ingenuity that's behind these systems and then the system in my opinion is just a tool you know it'd be a bit like saying with galileo and his telescope you know the ingenuity the the the credit should go to the telescope i mean it's clearly galileo building the tool which he then uses so i still see that in the same way today even though these tools learn for themselves um they're i think i think of things like alpha fold and that the things we're building as the ultimate tools for science and for acquiring new knowledge to help us as scientists acquire new knowledge i think one day there will come a point where an ai system may solve or come up with something like general relativity of its own bat not just by averaging everything on the internet or averaging everything on pubmed although that would be interesting to see what that would come up with um so that to me is a bit like our earlier debate about creativity you know inventing go rather than just coming up with a good go move and um so i think uh solving i think to to you know if we wanted to give it the credit of like a nobel type of thing then it would need to invent go uh and sort of invent that new conjecture out of the blue um rather than being specified by the the human scientists or the human creators so i think right now that's it's definitely just a tool although it is interesting how far you get by averaging everything on the internet like you said because you know a lot of people do see science as you're always standing on the shoulders of giants and the question is how much are you really reaching up above the shoulders of giants maybe it's just assimilating different kinds of results of the past with ultimately this new perspective that gives you this breakthrough idea but that idea may not be novel in the way that we can't be already discovered on the internet maybe the nobel prizes of the next 100 years are already all there on the internet to be discovered they could be they could be i mean i think um this is one of the big mysteries i think is that uh uh i i first of all i believe a lot of the big new breakthroughs that are going to come in the next few decades and even in the last decade are going to come at the intersection between different subject areas where um there'll be some new connection that's found between what seemingly with disparate areas and and one can even think of deep mind as i said earlier as a sort of interdisciplinary between neuroscience ideas and ai engineering ideas uh originally and so um so i think there's that and then one of the things we can't imagine today is and one of the reasons i think people we were so surprised by how well large models worked is that actually it's very hard for our human minds our limited human minds to understand what it would be like to read the whole internet right i think we can do a thought experiment and i used to do this of like well what if i read the whole of wikipedia what would i know and i think our minds can just about comprehend maybe what that would be like but the whole internet is beyond comprehension so i think we just don't understand what it would be like to be able to hold all of that in mind potentially right and then active at once and then maybe what are the connections that are available there so i think no doubt there are huge things to be discovered just like that but i do think there is this other type of creativity of true spark of new knowledge new idea never thought before about can't be average from things that are known um that really of course everything come you know nobody creates in a vacuum so there must be clues somewhere but just a unique way of putting those things together i think some of the greatest scientists in history have displayed that i would say although it's very hard to know going back to their time what was exactly known uh when they came up with those things although you're making me really think because just the thought experiment of deeply knowing a hundred wikipedia pages i don't think i can um i've been really impressed by wikipedia for for technical topics yeah so if you know a hundred pages or a thousand pages i don't think who can visually truly comprehend what's what kind of intelligence that is that's a pretty powerful intelligence if you know how to use that and integrate that information correctly yes i think you can go really far you can probably construct thought experiments based on that like simulate different ideas so if this is true let me run this thought experiment then maybe this is true it's not really invention it's like just taking literally the knowledge and using it to construct a very basic simulation of the world i mean some argue it's romantic in part but einstein would do the same kind of things with a thought experiment yeah one could imagine doing that systematically across millions of wikipedia pages plus pubmed all these things i think there are many many things to be discovered like that they're hugely useful you know you could imagine and i want us to do some of those things in material science like room temperature superconductors or something on my list one day i'd like to like you know have an ai system to help build better optimized batteries all of these sort of mechanical things mr i think a systematic sort of search could be uh guided by a model could be um could be extremely powerful so speaking of which you have a paper on nuclear fusion uh magnetic control of tokamak plasmas to deep reinforcement learning so you uh you're seeking to solve nuclear fusion with deep rl so it's doing control of high temperature plasmas can you explain this work and uh can ai eventually solve nuclear fusion it's been very fun last year or two and very productive because we've been taking off a lot of my dream projects if you like of things that i've collected over the years of areas of science that i would like to i think could be very transformative if we helped accelerate and uh really interesting problems scientific challenges in of themselves this is energy so energy yes exactly so energy and climate so we talked about disease and biology as being one of the biggest places i think ai can help with i think energy and climate uh is another one so maybe they would be my top two um and fusion is one one area i think ai can help with now fusion has many challenges mostly physics material science and engineering challenges as well to build these massive fusion reactors and contain the plasma and what we try to do whenever we go into a new field to apply our systems is we look for um we talk to domain experts we try and find the best people in the world to collaborate with um in this case in fusion we we collaborated with epfl in switzerland the swiss technical institute who are amazing they have a test reactor that they were willing to let us use which you know i double checked with the team we were going to use carefully and safely i was impressed they managed to persuade them to let us use it and um and it's a it's an amazing test reactor they have there and they try all sorts of pretty crazy experiments on it and um the the the what we tend to look at is if we go into a new domain like fusion what are all the bottleneck problems uh like thinking from first principles you know what are all the bottleneck problems that are still stopping fusion working today and then we look at we you know we get a fusion expert to tell us and then we look at those bottlenecks and we look at the ones which ones are amenable to our ai methods today yes right and and and then and would be interesting from a research perspective from our point of view from an ai point of view and that would address one of their bottlenecks and in this case plasma control was was perfect so you know the plasma it's a million degrees celsius something like that it's hotter than the sun and there's obviously no material that can contain it so they have to be containing these magnetic very powerful superconducting magnetic fields but the problem is plasma is pretty unstable as you imagine you're kind of holding a mini sun mini star in a reactor so you know you you kind of want to predict ahead of time what the plasma's going to do so you can move the magnetic field within a few milliseconds you know to to basically contain what it's going to do next so it seems like a perfect problem if you think of it for like a reinforcement learning prediction problem so uh you know your controller you're gonna move the magnetic field and until we came along you know they were they were doing it with with traditional operational uh research type of uh controllers uh which are kind of handcrafted and the problem is of course they can't react in the moment to something the plasma's doing that they have to be hard-coded and again knowing that that's normally our go-to solution is we would like to learn that instead and they also had a simulator of these plasma so there were lots of criteria that matched what we we like to to to use so can ai eventually solve nuclear fusion well so we with this problem and we published it in a nature paper last year uh we held the fusion that we held the plasma in specific shapes so actually it's almost like carving the plasma into different shapes and control and hold it there for the record amount of time so um so that's one of the problems of of fusion sort of um solved so i have a controller that's able to no matter the shape uh contain it continue yeah contain it and hold it in structure and there's different shapes that are better for for the energy productions called droplets and and and so on so um so that was huge and now we're looking we're talking to lots of fusion startups to see what's the next problem we can tackle uh in the fusion area so another fascinating place in a paper title pushing the frontiers of density functionals by solving the fractional electron problem so you're taking on modeling and simulating the quantum mechanical behavior of electrons yes um can you explain this work and can ai model and simulate arbitrary quantum mechanical systems in the future yeah so this is another problem i've had my eye on for you know a decade or more which is um uh sort of simulating the properties of electrons if you can do that you can basically describe how elements and materials and substances work so it's kind of like fundamental if you want to advance material science um and uh you know we have schrodinger's equation and then we have approximations to that density functional theory these things are you know are famous and um people try and write approximations to to these uh uh to these functionals and and kind of come up with descriptions of the electron clouds where they're gonna go how they're gonna interact when you put two elements together uh and what we try to do is learn a simulation uh uh learner functional that will describe more chemistry types of chemistry so um until now you know you can run expensive simulations but then you can only simulate very small uh molecules very simple molecules we would like to simulate large materials um and so uh today there's no way of doing that and we're building up towards uh building functionals that approximate schrodinger's equation and then allow you to describe uh what the electrons are doing and all materials sort of science and material properties are governed by the electrons and and how they interact so have a good summarization of the simulation through the functional um but one that is still close to what the actual simulation would come out with so what um how difficult is that to ask what's involved in that task is it running those those complicated simulations yeah and learning the task of mapping from the initial conditions and the parameters of the simulation learning what the functional would be yeah so it's pretty tricky and we've done it with um you know the nice thing is we there are we can run a lot of the simulations that the molecular dynamics simulations on our compute clusters and so that generates a lot of data so in this case the data is generated so we like those sort of systems and that's why we use games simulator generated data and we can kind of create as much of it as we want really um and just let's leave some you know if any computers are free in the cloud we just run we run some of these calculations right compute cluster calculation that's all the the free compute times used up on quantum mechanics quantum mechanics exactly simulations and protein simulations and other things and so um and so you know when you're not searching on youtube for video cat videos we're using those computers usefully and quantum chemistry that's the idea and and putting them for good use and then yeah and then all of that computational data that's generated we can then try and learn the functionals from that which of course are way more efficient once we learn the functional than um running those simulations would be do you think one day ai may allow us to do something like basically crack open physics so do something like travel faster than the speed of light my ultimate aim has always been with ai is um the reason i am personally working on ai for my whole life it was to build a tool to help us understand stand the universe so i wanted to and that means physics really and the nature of reality so um uh i don't think we have systems that are capable of doing that yet but when we get towards agi i think um that's one of the first things i think we should apply agi to i would like to test the limits of physics and our knowledge of physics there's so many things we don't know there's one thing i find fascinating about science and you know as a huge proponent of the scientific method as being one of the greatest ideas humanity's ever had and allowed us to progress with our knowledge but i think as a true scientist i think what you find is the more you find out uh you the more you realize we don't know and and i always think that it's surprising that more people don't aren't troubled you know every night i think about all these things we interact with all the time that we have no idea how they work time consciousness gravity life we can't i mean these are all the fundamental things of nature i think the way we don't really know what they are to live life we uh pin certain assumptions on them and kind of treat our assumptions as if they're a fact yeah that allows us to sort of box them off somehow yeah box them off but the reality is when you think of time you should remind yourself you should put it off the sh take it off the shelf and realize like no we have a bunch of assumptions there's still a lot of there's even now a lot of debate there's a lot of uncertainty about exactly what is time uh is there an error of time you know there's there's a lot of fundamental questions you can't just make assumptions about and maybe ai allows you to um not put anything on the shelf yeah not make any uh hard assumptions and really open it up and see what exactly i think we should be truly open-minded about that and uh exactly that not be dogmatic to a particular theory um it'll also allow us to build better tools experimental tools eventually that can then test certain theories that may not be testable today about as things about like what we spoke about at the beginning about the computational nature of the universe how one might if that was true how one might go about testing that right and and how much uh you know there are people who've conjectured people like uh scott aronson and others about uh you know how much information can a specific planck unit of space and time contain right so one might be able to think about testing those ideas if you had um ai helping you build some new exquisite uh uh experimental tools this is what i imagine you know many decades from now we'll be able to do and what kind of questions can be answered through running a simulation of of them so there's a bunch of physics simulations you can imagine that could be run in an uh so some kind of efficient way much like you're doing in the quantum simulation work and perhaps even the origin of life so figuring out how going even back before the work of alpha fault begins of how this whole whole thing um emerges from a rock yes from a static thing would what do you do you think ai will allow us to is that something you have your eye on it's trying to understand the origin of life first of all yourself what do you think um how the heck did life originate on earth yeah well maybe we i'll come to that in a second but i think the ultimate use of ai is to kind of use it to accelerate science to the maximum so i um think of it a little bit like the tree of all knowledge if you imagine that's all the knowledge there is in the universe to attain and we sort of barely scratched the surface of that so far in even though you know we've we've done pretty well since the enlightenment right as humanity and i think ai will turbo charge all of that like we've seen with alpha fold and i want to explore as much of that tree of knowledge as it's possible to do and um and i think that involves ai helping us with with with understanding or finding patterns um but also potentially designing and building new tools experimental tools so i think that's all uh and also running simulations and learning simulations all of that we're already we're sort of doing it at a at a at a you know baby steps level here but i can imagine that in in in the decades to come as uh you know what's the full flourishing of of that line of thinking it's going to be truly incredible i would say if i visualize this tree of knowledge something tells me that that knowledge for tree of knowledge for humans is much smaller in the set of all possible trees of knowledge is actually quite small giving our cognitive limitations limited cognitive capabilities that even with with the tools we build we still won't be able to understand a lot of things and that's perhaps what non-human systems might be able to reach farther not just as tools but in themselves understanding something that they can bring back yeah it could well be so i mean there's so many things that that are sort of encapsulated in what you just said there i think first of all um there's there's two different things there's like what do we understand today yeah what could the human mind understand and what is the totality of what is there to be understood yeah right and so there's three consensus you know you can think of them as three larger and larger trees or exploring more branches of that tree and i i think with ai we're going to explore that whole lot now the question is is uh you know if you think about what is the totality of what could be understood um there may be some fundamental physics reasons why certain things can't be understood like what's outside the simulation or outside the universe maybe it's not understandable from within the universe so that's there may be some hard constraints like that you know it could be smaller constraints like um we think of space time as fundamental us our human brains are really used to this idea of a three-dimensional world with time right maybe but our tools could go beyond that they wouldn't have that limitation necessary they could think in 11 dimensions 12 dimensions whatever is needed but um we could still maybe understand that in several different ways the example i always give is um when i you know play gary kasparov at speed chess or we've talked about chess and these kind of things um you know he if you if you if you're reasonably good at chess you can um you can't come up with the move gary comes up with in his move but he can explain it to you and you can understand and you can understand post hoc the reasoning yeah so so i think there's a there's an even further level of like well maybe you couldn't have invented that thing but but using like going back to using language again perhaps you can understand and appreciate that same way like you can appreciate you know vivaldi or mozart or something without you can appreciate the beauty of that without um being able to to construct it yourself right invent the music yourself so i think we see this in all forms of life so it'll be that times you know a million but it would you can imagine also one sign of intelligence is the ability to explain things clearly and simply right you know people like richard feynman another one of my all-time heroes used to say that right if you can't you know if you can explain it something simply then you that's a that's the best sign a complex topic simply then that's one of the best signs of you understanding it yeah so i can see myself talking trash in the ai system in that way yes uh it gets frustrated how dumb i am and trying to explain something to me i was like well that means you're not intelligent because if you were intelligent you'd be able to explain it simply yeah of course you know there's also the other option of course we could enhance ourselves and and without devices we we are already sort of symbiotic with our compute devices right with our phones and other things and you know this stuff like neural link and etc that could be could could advance that further um so i think there's lots of lots of really amazing possibilities uh that i could foresee from here well let me ask you some wild questions so out there looking for friends do you think there's a lot of alien civilizations out there so i guess this also goes back to your origin of life question too because i think that that's key um my personal opinion looking at all this and and you know it's one of my hobbies physics i guess so so i i you know it's something i think about a lot and talk to a lot of experts on and and and read a lot of books on and i think my feeling currently is that that we are alone i think that's the most likely scenario given what what evidence we have so um and the reasoning is i think that you know we've tried since uh things like seti program and i guess since the dawning of the the space age uh we've you know had telescopes open radio telescopes and other things and if you think about um and try to detect signals now if you think about the evolution of humans on earth we could have easily been um a million years ahead of our time now or million years behind quite easily with just some slightly different quirk thing happening hundreds of thousands years ago uh you know things could have been slightly different if the bto had hit the dinosaurs a million years earlier maybe things would have evolved uh we'd be a million years ahead of where we are now so what that means is if you imagine where humanity will be in a few hundred years let alone a million years especially if we hopefully um you know solve things like climate change and other things and we continue to flourish and we build things like ai and we do space traveling and all of the stuff that that humans have dreamed of for forever right and sci-fi has talked about forever um we will be spreading across the stars right and void neumann famously calculated you know it would only take about a million years if you send out von neumann probes to the nearest you know the nearest uh uh other solar systems and and then they built all they did was build two more versions of themselves and set those two out to the next nearest systems uh you you know within a million years i think you would have one of these probes in every system in the galaxy so it's not actually in cosmo cosmological time that's actually a very short amount of time so and and you know we've people like dyson have thought about constructing dyson spheres around stars to collect all the energy coming out of the star you know that there would be constructions like that would be visible across base um probably even across a galaxy so and then you know if you think about all of our radio television uh emissions that have gone out since since the you know 30s and 40s um imagine a million years of that and now hundreds of civilizations doing that when we opened our ears at the point we got technologically sophisticated enough in the space age we should have heard a cacophony of voices we should have joined that cacophony of voices and what we did we opened our ears and we heard nothing and many people who argue that there are aliens would say well we haven't really done exhaustive search yet and maybe we're looking in the wrong bands and and we've got the wrong devices and we wouldn't notice what an alien form was like to be so different to what we're used to but you know i'm not i don't really buy that that it shouldn't be as difficult as that like we i think we've searched enough there should be if it were everywhere if it was it should be everywhere we should see dyson's fears being put up sun's blinking in and out you know there should be a lot of evidence for those things and then there are other people argue well the sort of safari view of like well we're a primitive species still because we're not space faring yet and and and we're you know there's some kind of globe like universal rule not to interfere star trek rule but like look look we can't even coordinate humans to deal with climate change and we're one species what is the chance that of all of these different human civilization you know alien civilizations they would have the same priorities and and and and agree across you know these kind of matters and even if that was true and we were in some sort of safari for our own good to me that's not much different from the simulation hypothesis because what does it mean the simulation hypothesis i think in its most fundamental level it means what we're seeing is not quite reality right it's something there's something more deeper underlying it maybe computational now if we were in a if we were in a sort of safari park and everything we were seeing was a hologram and it was projected by the aliens or whatever that to me is not much different than thinking we're inside of another universe because we still can't see true reality right i mean there's there's other explanations it could be that the way they're communicating is just fundamentally different that we're too dumb to understand the much better methods of communication they have it could be i mean i mean it's silly to say but our own thoughts could be the methods by which they're communicating like the place from which our ideas writers talk about this like the muse yeah it sounds like very kind of uh wild but it could be thoughts it could be some interactions with our mind that we think are originating from us is actually something that uh is coming from other life forms elsewhere consciousness itself might be that it could be but i don't see any sensible argument to the why why would all of the alien species be using this way yes some of them will be more primitive they would be close to our level you know there would there should be a whole sort of normal distribution of these things right some would be aggressive some would be you know curious others would be very stoical and philosophical because you know maybe they're a million years older than us but it's not it shouldn't be like what i mean one one alien civilization might be like that communicating thoughts and others but i don't see why you know potentially the hundreds there should be would be uniform in this way right it could be a violent dictatorship that the the people the alien civilizations that uh become successful become um [Music] gain the ability to be destructive an order of magnitude more destructive but of course the the sad thought well either humans are very special we took a lot of leaps that arrived at what it means to be human yeah um there's a question there which was the hardest which was the most special but also if others have reached this level and maybe many others have reached this level the great filter that prevented them from going farther to becoming a multi-planetary species or reaching out into the stars and those are really important questions for us whether um whether there's other alien civilizations out there or not this is very useful for us to think about if we destroy ourselves how will we do it and how easy is it to do yeah well you know these are big questions and i've thought about these a lot but the the the interesting thing is that if we're if we're alone that's somewhat comforting from the great filter perspective because it probably means the great filters were are past us and i'm pretty sure they are so that by in going back to your origin of life question there are some incredible things that no one knows how happened like obviously the first life form from chemical soup that seems pretty hard but i would guess the multicellular i wouldn't be that surprised if we saw single single cell sort of life forms elsewhere uh bacteria type things but multicellular life seems incredibly hard that step of you know capturing mitochondria and then sort of using that as part of yourself you know when you've just eaten it would you say that's the biggest the most uh like if if you had to choose one sort of uh hitchhiker's got this galaxy one sentence summary of like oh those clever creatures did this that would be the multilist i think that was probably the one that that's the biggest i mean there's a great book called the 10 grand great inventions of evolution by nick lane and he speculates on 10 10 of these you know what could be great filters um i think that's one i think the the advent of of intelligence and and conscious intelligence and in order you know to us to be able to do science and things like that is huge as well i mean it's only evolved once as far as you know uh in in earth history so that would be a later candidate but there's certainly for the early candidates i think multicellular life forms is huge by the way what it's interesting to ask you if you can hypothesize about what is the origin of intelligence is it uh that we started cooking meat over fire is it that we somehow figured out that we could be very powerful when we start collaborating so cooperation between um our ancestors so that we can overthrow the alpha male uh what is it richard i talked to richard randham who thinks we're all just beta males who figured out how to collaborate to defeat the one the dictator the authoritarian alpha male um that control the tribe um is there other explanation did was there um 2001 space out any type of monolith yeah that came down to earth well i i think um i think all of those things you suggest for good candidates fire and and and cooking right so that's clearly important you know energy efficiency yeah cooking our meat and then and then being able to to to be more efficient about eating it and getting it consuming the energy um i think that's huge and then utilizing fire and tools i think you're right about the the tribal cooperation aspects and probably language as part of that yes um because probably that's what allowed us to outcompete neanderthals and and perhaps less cooperative species so um so that may be the case tool making spears axes i think that let us i mean i think it's pretty clear now that humans were responsible for a lot of the extinctions of megafauna um especially in in the americas when humans arrived so uh you can imagine once you discover tool usage how powerful that would have been and how scary for animals so i think all of those could have been explanations for it you know the interesting thing is that it's a bit like general intelligence too is it's very costly to begin with to have a brain and especially a general purpose brain rather than a special purpose one because the amount of energy our brains use i think it's like 20 of the body's energy and it's it's massive and when you're thinking chest one of the funny things that that we used to say is as much as a racing driver uses for a whole you know formula one race if just playing a game of you know serious high level chess which you you know you wouldn't think just sitting there um because the brain's using so much uh energy so in order for an animal an organism to justify that there has to be a huge payoff and the problem with with half a brain or half you know intelligence saying iqs of you know of like a monkey brain it's it's not clear you can justify that evolutionary until you get to the human level brain and so but how do you how do you do that jump it's very difficult which is why i think it's only been done once from the sort of specialized brains that you see in animals to this sort of general purpose chewing powerful brains that humans have um and which allows us to invent the modern modern world um and uh you know it takes a lot to to cross that barrier and i think we've seen the same with ai systems which is that uh maybe until very recently it's always been easier to craft a specific solution to a problem like chess than it has been to build a general learning system that could potentially do many things because initially uh that system will be way worse than uh less efficient than the specialized system so one of the interesting quirks of the human mind of this evolved system is that it appears to be conscious this thing that we don't quite understand but it seems very very special its ability to have a subjective experience that it feels like something to eat a cookie the deliciousness of it or see a color and that kind of stuff do you think in order to solve intelligence we also need to solve consciousness along the way do you think agi systems need to have consciousness in order to be truly intelligent yeah we thought about this a lot actually and um i think that my guess is that consciousness and intelligence are double dissociable so you can have one without the other both ways and i think you can see that with consciousness in that i think some animals and pets if you have a pet dog or something like that you can see some of the higher animals and dolphins things like that are uh have self-awareness and uh very sociable um seem to dream um you know those kinds of a lot of the traits one would regard as being kind of conscious and self-aware um and but yet they're not that smart right uh so they're not that intelligent by by say iq standards or something like that yeah it's also possible that our understanding of intelligence is flawed like putting an iq to it sure maybe the thing that a dog can do is actually gone very far along the path of intelligence and we humans are just able to play chess and maybe write poems right but if we go back to the idea of agi and general intelligence you know dogs are very specialized right most animals are pretty specialized they can be amazing at what they do but they're like kind of elite sports sports people or something right so they do one thing extremely well because their entire brain is is optimized they have somehow convinced the entirety of the human population to feed them and service them so in some way they're controlling yes exactly well we co-evolved to some crazy degree right uh including the the way the dogs you know even even wag their tails and twitch their noses right we find we're finding inexorably cute yeah um but i think um you can also see intelligence on the other side so systems like artificial systems that are amazingly smart at certain things like maybe playing go and chess and other things but they don't feel at all in any shape or form conscious in the way that you know you do to me or i do to you and um and i think actually building ai is uh these intelligent constructs uh is one of the best ways to explore the mystery of consciousness to break it down because um we're going to have devices that are pretty smart at certain things or capable of certain things but potentially won't have any semblance of self-awareness or other things and in fact i would advocate if there's a choice building systems in the first place ai systems that are not conscious to begin with uh are just tools um until we understand them better and the capabilities better so on that topic just not as the ceo of deep mind just as a human being let me ask you about this one particular anecdotal evidence of the google engineer who made a comment or believed that there's some aspect of a language model the lambda language model that exhibited sentience so you said you believe there might be a responsibility to build systems that are not essential and this experience of a particular engineer i think i'd love to get your general opinion on this kind of thing but i think it will happen more and more and more which uh not when engineers but when people out there that don't have an engineering background start interacting with increasingly intelligent systems we anthropomorphize them they they start to have deep impactful um interactions with us in a way that we miss them yeah when they're gone and we sure feel like they're living entities self-aware entities and maybe even we project sentience onto them so what what's your thought about this particular uh system was is uh have you ever met a language model that's sentient no i no no what do you make of the case of when you kind of feel that there's some elements of sentience to this system yeah so this is you know an interesting question and uh uh obviously a very fundamental one so first thing to say is i think that none of the systems we have today i i would say even have one iota of uh semblance of consciousness or sentience that's my personal feeling interacting with them every day so i think that's way premature to be discussing what that engineer talked about i appreciate i think at the moment it's more of a projection of the way our own minds work which is to see uh uh uh sort of purpose and direction in almost anything that we you know our brains are trained to interpret uh agency basically in things uh even the an inanimate thing sometimes and of course with a a language system because language is so fundamental to intelligence that's going to be easy for us to anthropomorphize that i mean back in the day even the first uh you know the dumbest sort of template chatbots ever eliza and and and and the ilk of the original chatbots back in the 60s fooled some people under certain circumstances right they pretended to be a psychologist so just basically rabbit back to you the same question you asked it back to you um and uh some people believe that so i don't think we can this is why i think the turing test is a little bit flawed as a formal test because it depends on the sophistication of the of the judge um whether or not they are qualified to make that distinction so i think we should uh talk to you know the the top philosophers about this people like daniel dennett and uh david chalmers and others who've obviously thought deeply about consciousness of course consciousness itself hasn't been well there's no agreed definition if i was to you know uh speculate about that uh you know i kind of the definite the working definition i like is it's the way information feels when you know it gets processed i think maybe max tegmark came up with that i like that idea i don't know if it helps us get towards any more operational thing but but it's it's it's i think it's a nice way of viewing it um i think we can obviously see from neuroscience certain prerequisites that are required like self-awareness i think is necessary but not sufficient component this idea of a self and other and set of coherent preferences that are coherent over time you know these things are maybe memory um these things are probably needed for a sentient or conscious being um but but the reason that the difficult thing i think for us when we get and i think this is a really interesting philosophical debate is when we get closer to agi and and and you know and and much more powerful systems than we have today um how are we going to make this judgment and one way which is the turing test is sort of a behavioral judgment is is the system exhibiting all the behaviors um that a human sentient uh or a sentient being would would would exhibit um is it answering the right questions is it saying the right things is it indistinguishable from a human um and so on but i think there's a second thing that makes us as humans regard each other as sentient right why do we why do we think this and i debated this with daniel dennett and i think there's a second reason that's often overlooked which is that we're running on the same substrate right so if we're exhibiting the same behavior uh more or less as humans and we're running on the same you know carbon-based biological substrate the squishy you know few pounds of of flesh in our skulls then the most parsimonious i think explanation is that you're feeling the same thing as i'm feeling right but we will never have that second part the substrate equivalence with a machine right so we will have to only judge based on the behavior and i think the substrate equivalence is a critical part of why we make assumptions that we're conscious and in fact even with with animals high-level animals why we think they might be because they're exhibiting some of the behaviors we would expect from a sentient animal and we know they're made of the same things biological neurons so we're gonna have to come up with explanations uh or models of the gap between substrate differences between machines and humans did to get anywhere beyond the behavioral but to me sort of the practical question is very interesting and very important when you have millions perhaps billions of people believing that you have ascension ai believing what that google engineer believed which i just see is an obvious very near-term future thing certainly on the path to agi how does that change the world what's the responsibility of the ai system to help those millions of people and also what's the ethical thing because you can you can make a lot of people happy by creating a meaningful deep experience with a system that's faking it before it makes it yeah and i i don't is a are we the right or who is to say what's the right thing to do should ai always be tools like why why why are we constraining ais to always be tools as opposed to friends yeah i think well i mean these are you know you know fantastic questions and and also critical ones and we've been thinking about this uh since the start of d minor before that because we planned for success and you know how how you know you know however remote that looked like back in 2010 and we've always had sort of these ethical considerations as fundamental at deepmind um and my current thinking on the language models is and and large models is they're not ready we don't understand them well enough yet um and you know in terms of analysis tools and and guard rails what they can and can't do and so on to deploy them at scale because i think you know there are big still ethical questions like should an ai system always announce that it is an ai system to begin with probably yes um it what what do you do about answering those philosophical questions about the feelings uh people may have about ai systems perhaps incorrectly attributed so i think there's a whole bunch of research that needs to be done first um to responsibly before you know you can responsibly deploy these systems at scale that would be at least be my current position over time i'm very confident we'll have those tools like interpretability questions um and uh analysis questions uh and then with the ethical quandary you know i think there it's important to uh look beyond just science that's why i think philosophy social sciences even theology other things like that come into it where um what you know arts and humanities what what does it mean to be human and the spirit of being human and and to enhance that and and the human condition right and allow us to experience things we could never experience before and improve the the overall human condition and humanity overall you know get radical abundance solve many scientific problems solve disease so this is the era i think this is the amazing era i think we're heading into if we do it right um but we've got to be careful we've already seen with things like social media how dual use technologies can be misused by firstly by by by bad you know p bad actors or naive actors or crazy actors right so there's that set of just the common or garden misuse of existing dual use technology and then of course there's an additional uh uh thing that has to be overcome with ai that eventually it may have its own agency so it could be uh uh uh good or bad in in in of itself so i think these questions have to be approached very carefully um using the scientific method i would say in terms of hypothesis generation careful control testing not live a b testing out in the world because with powerful dual technologies like ai if something goes wrong it may cause you know a lot of harm before you can fix it um it's not like a you know an imaging app or game app where you know that if if something goes wrong it's relatively easy to fix and and the harm's relatively small so i think it comes with you know the the the usual uh cliche of like with a lot of power comes a lot of responsibility and i think that's the case here with things like ai given the the enormous opportunity in front of us and i think we need a lot of voices uh and as many inputs into things like the design of the systems and the values they should have and what goals should they be put to um i think as wide a group of voices as possible beyond just the technologies is needed uh to input into that and to have a say in that especially when it comes to deployment of these systems which is when the rubber really hits the road it really affects the general person in the street rather than fundamental research and that's why i say i think as a first step it would be better if we have the choice to build these systems as tools to give and i'm not saying that it should never they should never go beyond tools because of course the potential is there um for it to go way beyond just tools uh but um i think that would be a good first step in order for us to you know allow us to carefully experiment understand what these things can do so the leap between tool to sentient entity being is one should take very careful yes let me ask a dark personal question so you're one of the most brilliant people in the ag community also one of the most kind and uh if i may say sort of loved people in the community that said uh creation of a super intelligent ai system would be one of the most powerful things in the world tools or otherwise and again as the old saying goes power corrupts and absolute power crops absolutely you are likely to be one of the people i would say probably the most likely person to be in the control of such a system do you think about the corrupting nature of power when you talk about these kinds of systems that um as all dictators and people have caused atrocities in the past always think they're doing good but they don't do good because the powers polluted their mind about what is good and what is evil do you think about this stuff or are we just focused on language modeling no i think about them all the time and you know i think what are the defenses against that i think one thing is to remain very grounded and sort of humble uh no matter what you do or achieve and i try to do that i might you know my best friends are still my set of friends from my undergraduate cambridge days my family's you know and and friends are very important um i've always i think trying to be a multi-disciplinary person it helps to keep you humble because no matter how good you are at one topic someone will be better than you at that and it and always relearning a new topic again from scratch is or new field is very humbling right so for me that's been biology over the last five years you know huge area topic and and and it's been and i just love doing that but it helps to keep you grounded like it keeps you open-minded and and then the other important thing is to have a really good amazing set of uh people around you at your company or your organization who are also very ethical and grounded themselves and help to keep you that way and then ultimately just to answer your question i hope we're going to be a big part of of birthing ai and that being the greatest benefit to humanity of any tool or technology ever and and getting us into a world of radical abundance and curing diseases and and and solving many of the big challenges we have in front of us and then ultimately you know help the ultimate flourishing of humanity to travel the stars and find those aliens if they are there and if they're not there find out why they're not there what what is going on here in the universe um this is all to come and and that's what i've always dreamed about um but i don't think i think ai is too big an idea it's not going to be uh there'll be a certain set of pioneers who get there first i hope we're in the vanguard so we can influence how that goes and i think it matters who builds who which which cultures they come from and what values they have uh the builders of ai systems because i think even though the ai system is going to learn for itself most of its knowledge there'll be a residue in the system of the culture and the values of the creators of the system um and there's interesting questions to to discuss about that geopolitically you know different cultures as we're in a more fragmented world than ever unfortunately i think in terms of global cooperation we see that in things like climate where we can't seem to get our act together uh globally to cooperate on these pressing matters i hope that will change over time perhaps you know if we get to an era of radical abundance we don't have to be so competitive anymore maybe we can be more cooperative if resources aren't so scarce it's true that in terms of power corrupting and leading to destructive things it seems that some of the atrocities of the past happen when there's a significant constraint on resources i think that's the first thing i don't think that's enough i think scarcity is one thing that's led to competition destruct you know sort of zero sum game thinking i would like us to all be in a positive sum world and i think for that you have to remove scarcity i don't think that's enough unfortunately to get world peace because there's also other corrupting things like wanting power over people and this kind of stuff which is not necessarily satisfied by by just abundance but i think it will help um and i think uh but i think ultimately ai is not going to be run by any one person or one organization i think it should belong to the world belong to humanity um and i think maybe many there'll be many ways this will happen and ultimately um everybody should have a say in that do you have advice for uh young people in high school and college maybe um if they're interested in ai or interested in having a big impact on the world what they should do to have a career they can be proud of her to have a life they can be proud of i love giving talks to the next generation what i say to them is actually two things i i think the most important things to learn about and to find out about when you're when you're young is what are your true passions is first of all there's two things one is find your true passions and i think you can do that by the way to do that is to explore as many things as possible when you're young and you you have the time and you and you can take those risks um i would also encourage people to look at the finding the connections between things in a unique way i think that's a really great way to find a passion second thing i would say advise is know yourself so spend a lot of time understanding how you work best like what are the optimal times to work what are the optimal ways that you study um what are your how do you deal with pressure sort of test yourself in various scenarios and try and improve your weaknesses but also find out what your unique skills and strengths are and then hone those so then that's what will be your super value in the world later on and if you can then combine those two things and find passions that you're genuinely excited about that intersect with what your unique strong skills are then you're you know you're on to something incredible and and you know i think you can make a huge difference in the world so let me ask about know yourself this is fun this is fun quick questions about day in the life the perfect day the perfect productive day in the life of demise's house yeah maybe uh maybe these days you're um there's a lot involved yeah it may be a slightly younger you could focus on a demonstration project maybe um how early do you wake up are you night owl do you wake up early in the morning what are some interesting habits uh how many dozens of cups of coffees do you drink a day what's the computer um that you use uh what's the setup how many screens what kind of keyboard are we talking uh emacs vim are we talking something more modern so it's a bunch of those questions so maybe uh day in the life what what's the perfect day involved well these days it's quite different from say 10 20 years ago back 10 20 years ago it would have been you know a whole day of research individual research or programming doing some experiment neuroscience computer science experiment reading lots of research papers uh and then perhaps at night time you know um reading science fiction books or or uh playing uh some games but lots of focus so like deep focused work on whether it's uh programming or reading research paper yes yes so that would be a lot of debrief you know uh focused work these days for the last sort of i guess you know five to ten years i've actually got quite a structure that works very well for me now which is that um i'm a night complete night out always have been so i optimized for that so you know i get you know i basically do a normal day's work get into work about 11 o'clock and sort of do work to about seven uh in the office uh and i will arrange back-to-back meetings for the entire time of that and with as many me as many people as possible so that's my collaboration management part of the day then i go home uh spend time with the family and friends uh have dinner uh uh relax a little bit and then i start a second day of work i call it my second day work around 10 pm 11 p.m and that's the time till about the small hours of the morning four five in the morning where i will do my thinking and reading a research writing research papers um sadly don't have time to code anymore but it's it's not efficient to to do that uh these days uh given the amount of time i have um but that's when i do you know maybe do the long kind of stretches of of thinking and planning and then probably you know using using email or other things i would set i would fire off a lot of things to my team to deal with the next morning for actually thinking about this overnight we should go for this project or arrange this meeting the next day when you're thinking through a problem are you talking about a sheet of paper or the patent pen is there some independent structure yeah i like processes i still like pencil and paper best for working out things but um these days it's just so efficient to read research papers just on the screen i still often print them out actually i still prefer to mark out things and i find it goes into the brain quick better and sticks in the brain better when you're you're still using physical pen and pencil and paper so you take notes with the i have lots of nodes electronic ones and also um whole stacks of notebooks that um that i use at home yeah on some of these most challenging next steps for example stuff none of us know about that you're working on you're thinking there's some deep thinking required there right like what what is the right problem what is the right approach because you're gonna have to invest a huge amount of time for the whole team they're going to have to pursue this thing what's the right way to do it is is rl going to work here or not yes um what's the right thing to try what's the right benchmark to use yeah we need to construct a benchmark from scratch all those kinds of things yes so i think all those kind of things in the night time phase but also much more um i find i've always found the quiet hours of the morning um when everyone's asleep it's super quiet outside um i love that time it's the golden hours like between like one and three in the morning um put some music on some inspiring music on and then um think these deep thoughts so that's when i would read you know my philosophy books and uh spinoza's my you know recent favorite can all these things i i i you know read about a great uh uh a scientist of history how they did things how they thought things so that's when you do all your create that's when i do all my creative thinking and it's good i think i think people recommend you know you do your your your sort of creative thinking in one block and the way i organize the day that way i don't get interrupted because obviously no one else is up uh at those times so i can i can go uh you know as i can sort of get super deep and super into flow the other nice thing about doing it night time wise is if i'm really uh onto something or i've i've got really deep into something i can choose to extend it and i'll go into six in the morning whatever and then i'll just pay for it the next day yeah cause i'll be a bit tired and i won't be my best but that's fine i can decide looking at my schedule the next day that and given where i'm at with this particular thought or creative idea that i'm going to pay that cost the next day so so i think that's that's more flexible than morning people who do that you know they get up at four in the morning they can also do those golden hours then but then their start of their schedule day starts at breakfast you know 8 a.m whatever they have their first meeting and then it's hard you have to reschedule a day if you're in flow yeah that's going to be i don't have to see that special threat of thoughts that the you're too passionate about you that this is where some of the greatest ideas could potentially come is when you just lose yourself late into yeah and for the meetings i mean you're loading in really hard problems in a very short amount of time so you have to do some kind of first principles thinking here it's like what's the problem what's the state of things what's the right next step yes you have to get really good at context switching which is one of the hardest things because especially as we do so many things if you include all the scientific things we do scientific fields we're working in these are entire you know complex fields in themselves and you you have to sort of keep up to abreast of that but i enjoy it i've always been uh a sort of generalist in a way and that's actually what happened with my games career after chess i i i one of the reasons i stopped playing chess was that i got into computers but also i started realizing there were many other great games out there to play too so i've always been that way inclined multidisciplinary and there's too many interesting things in in the world to spend all your time just on one thing so you mentioned spinoza gotta ask the big ridiculously big question about life what do you think is the meaning of this whole thing uh why are we humans here you've already mentioned that perhaps the universe created us is that why you think we're here to understand how the universe yeah i think my answer to that would be and at least the the life i'm living is to gain and uh to gain and understand the knowledge you know to gain knowledge and understand the universe that's what i think uh i can't see any higher purpose than that if you think back to the classical greeks you know the virtue of gaining knowledge it's uh i think it's that it's one of the few true virtues is to understand um the world around us and the context and humanity better and um and i think if you do that you become more compassionate and more understanding yourself and and more tolerant and all these i think all these other things may flow from that and to me you know understanding the nature of reality that is the biggest question what is going on here is sometimes the colloquial way i say what is really going on here uh it's so mysterious i feel like we're in some huge puzzle and and it's but the world is also seems to be the universe seems to be structured in a way you know why is it structured in a way that science is even possible that you know methods the scientific method works things are repeatable um it feels like it's almost structured in a way to be conducive to gaining knowledge so i feel like and you know why should computers be even possible isn't that amazing that uh computational electronic devices can can can can be possible and they're made of sand our most you know common element that we have you know silicon that on the on the earth's crust they could be made of diamond or something then we would have only had one computer yeah right so it's a lot of things are kind of slightly suspicious to me it sure as heck sounds this puzzle sure sounds like something we talked about earlier what it takes to to design a game that's really fun to play for prolonged periods of time and it does seem like this puzzle like you mentioned the more you learn about it the more you realize how little you know so it humbles you but excites you by the possibility of learning more it's one heck of a one heck of a puzzle we got going on here um so like i mentioned of all the people in the world you're very likely to be the one who creates the agi system um that achieves human level intelligence and goes beyond it so if you got a chance and very well you could be the person that goes into the room with the system and have a conversation maybe you only get to ask one question if you do what question would you ask her i would probably ask um what is the true nature of reality i think that's the question i don't know if i'd understand the answer because maybe it would be 42 or something like that but um that's the question i would ask and then there'll be a deep sigh from the systems like all right how do i explain to the excuse me exactly all right let me i don't have time to explain uh maybe i'll draw you a picture that it is i mean how do you even begin um to answer that question well i think it would um what would you what would you think the answer could possibly look like i think it could it could start looking like uh uh more fundamental explanations of physics would be the beginning you know more careful specification of that taking you walking us through by the hand as to what one would do to maybe prove those things out maybe giving you glimpses of what things you totally missed in the physics of today exactly just here here's glimpses of no like there's a much uh a much more elaborate world or a much simpler world or something a much deeper maybe simpler explanation yes of things right than the standard model of physics which we know doesn't work but we still keep adding to so um and and that's how i think the beginning of an explanation would look and it would start encompassing many of the mysteries that we have wondered about for thousands of years like you know consciousness uh life and gravity all of these things yeah giving us a glimpses of explanations for those things yeah well um damas dear one of the special human beings in this giant puzzle of ours and it's a huge honor that you would take a pause from the bigger puzzle to solve this small puzzle of a conversation with me today it's truly an honor and a pleasure thank you thank you i really enjoyed it thanks lex thanks for listening to this conversation with demas establish to support this podcast please check out our sponsors in the description and now let me leave you with some words from edskar dykstra computer science is no more about computers than astronomy is about telescopes thank you for listening and hope to see you next time\n"
     ]
    }
   ],
   "source": [
    "video_id = \"Gfr50f6ZBvo\" # only the ID, not full URL\n",
    "try:\n",
    "    transcript_list = YouTubeTranscriptApi.get_transcript(video_id, languages=[\"en\"])\n",
    "\n",
    "    transcript = \" \".join(chunk[\"text\"] for chunk in transcript_list)\n",
    "    print(transcript)\n",
    "\n",
    "except TranscriptsDisabled:\n",
    "    print(\"No captions available for this video.\")"
   ]
  },
  {
   "cell_type": "code",
   "execution_count": 5,
   "id": "0ce2d33b",
   "metadata": {
    "execution": {
     "iopub.execute_input": "2025-06-22T23:56:50.022142Z",
     "iopub.status.busy": "2025-06-22T23:56:50.021923Z",
     "iopub.status.idle": "2025-06-22T23:56:50.026717Z",
     "shell.execute_reply": "2025-06-22T23:56:50.026236Z"
    },
    "papermill": {
     "duration": 0.016543,
     "end_time": "2025-06-22T23:56:50.027898",
     "exception": false,
     "start_time": "2025-06-22T23:56:50.011355",
     "status": "completed"
    },
    "tags": []
   },
   "outputs": [
    {
     "data": {
      "text/plain": [
       "{'text': 'ceo and co-founder of deepmind', 'start': 3.52, 'duration': 5.119}"
      ]
     },
     "execution_count": 5,
     "metadata": {},
     "output_type": "execute_result"
    }
   ],
   "source": [
    "transcript_list[2]"
   ]
  },
  {
   "cell_type": "markdown",
   "id": "9aaf50d3",
   "metadata": {
    "papermill": {
     "duration": 0.009575,
     "end_time": "2025-06-22T23:56:50.047465",
     "exception": false,
     "start_time": "2025-06-22T23:56:50.037890",
     "status": "completed"
    },
    "tags": []
   },
   "source": [
    "## Step 2: Now that we've loaded the data, we have to split in into small chunks"
   ]
  },
  {
   "cell_type": "code",
   "execution_count": 6,
   "id": "5af1551a",
   "metadata": {
    "execution": {
     "iopub.execute_input": "2025-06-22T23:56:50.067564Z",
     "iopub.status.busy": "2025-06-22T23:56:50.067347Z",
     "iopub.status.idle": "2025-06-22T23:56:50.097653Z",
     "shell.execute_reply": "2025-06-22T23:56:50.097086Z"
    },
    "papermill": {
     "duration": 0.041691,
     "end_time": "2025-06-22T23:56:50.098843",
     "exception": false,
     "start_time": "2025-06-22T23:56:50.057152",
     "status": "completed"
    },
    "tags": []
   },
   "outputs": [],
   "source": [
    "splitter = RecursiveCharacterTextSplitter(chunk_size=1000, chunk_overlap=200)\n",
    "chunks = splitter.create_documents([transcript])"
   ]
  },
  {
   "cell_type": "code",
   "execution_count": 7,
   "id": "62323c34",
   "metadata": {
    "execution": {
     "iopub.execute_input": "2025-06-22T23:56:50.119143Z",
     "iopub.status.busy": "2025-06-22T23:56:50.118946Z",
     "iopub.status.idle": "2025-06-22T23:56:50.122752Z",
     "shell.execute_reply": "2025-06-22T23:56:50.122251Z"
    },
    "papermill": {
     "duration": 0.015119,
     "end_time": "2025-06-22T23:56:50.123773",
     "exception": false,
     "start_time": "2025-06-22T23:56:50.108654",
     "status": "completed"
    },
    "tags": []
   },
   "outputs": [
    {
     "data": {
      "text/plain": [
       "168"
      ]
     },
     "execution_count": 7,
     "metadata": {},
     "output_type": "execute_result"
    }
   ],
   "source": [
    "len(chunks)"
   ]
  },
  {
   "cell_type": "code",
   "execution_count": 8,
   "id": "c16cfd60",
   "metadata": {
    "execution": {
     "iopub.execute_input": "2025-06-22T23:56:50.143950Z",
     "iopub.status.busy": "2025-06-22T23:56:50.143754Z",
     "iopub.status.idle": "2025-06-22T23:56:50.147916Z",
     "shell.execute_reply": "2025-06-22T23:56:50.147433Z"
    },
    "papermill": {
     "duration": 0.01539,
     "end_time": "2025-06-22T23:56:50.148869",
     "exception": false,
     "start_time": "2025-06-22T23:56:50.133479",
     "status": "completed"
    },
    "tags": []
   },
   "outputs": [
    {
     "data": {
      "text/plain": [
       "Document(metadata={}, page_content=\"the following is a conversation with demus hasabis ceo and co-founder of deepmind a company that has published and builds some of the most incredible artificial intelligence systems in the history of computing including alfred zero that learned all by itself to play the game of gold better than any human in the world and alpha fold two that solved protein folding both tasks considered nearly impossible for a very long time demus is widely considered to be one of the most brilliant and impactful humans in the history of artificial intelligence and science and engineering in general this was truly an honor and a pleasure for me to finally sit down with him for this conversation and i'm sure we will talk many times again in the future this is the lex friedman podcast to support it please check out our sponsors in the description and now dear friends here's demis hassabis let's start with a bit of a personal question am i an ai program you wrote to interview people until i get good enough\")"
      ]
     },
     "execution_count": 8,
     "metadata": {},
     "output_type": "execute_result"
    }
   ],
   "source": [
    "chunks[0]"
   ]
  },
  {
   "cell_type": "markdown",
   "id": "69ea3b75",
   "metadata": {
    "papermill": {
     "duration": 0.009621,
     "end_time": "2025-06-22T23:56:50.168532",
     "exception": false,
     "start_time": "2025-06-22T23:56:50.158911",
     "status": "completed"
    },
    "tags": []
   },
   "source": [
    "## Step 3: we will creat embedding out of those small chunks and then stored them in the vector database"
   ]
  },
  {
   "cell_type": "code",
   "execution_count": 9,
   "id": "59a961aa",
   "metadata": {
    "execution": {
     "iopub.execute_input": "2025-06-22T23:56:50.189027Z",
     "iopub.status.busy": "2025-06-22T23:56:50.188853Z",
     "iopub.status.idle": "2025-06-22T23:56:52.893769Z",
     "shell.execute_reply": "2025-06-22T23:56:52.893194Z"
    },
    "papermill": {
     "duration": 2.716793,
     "end_time": "2025-06-22T23:56:52.895071",
     "exception": false,
     "start_time": "2025-06-22T23:56:50.178278",
     "status": "completed"
    },
    "tags": []
   },
   "outputs": [],
   "source": [
    "from langchain_google_genai import GoogleGenerativeAIEmbeddings\n",
    "from langchain.vectorstores import FAISS\n",
    "\n",
    "embeddings = GoogleGenerativeAIEmbeddings(\n",
    "    model=\"models/embedding-001\",\n",
    "    dimensions=25\n",
    ")\n",
    "vector_store = FAISS.from_documents(chunks,embeddings)\n"
   ]
  },
  {
   "cell_type": "code",
   "execution_count": 10,
   "id": "ef946866",
   "metadata": {
    "execution": {
     "iopub.execute_input": "2025-06-22T23:56:52.917569Z",
     "iopub.status.busy": "2025-06-22T23:56:52.917381Z",
     "iopub.status.idle": "2025-06-22T23:56:52.923498Z",
     "shell.execute_reply": "2025-06-22T23:56:52.922851Z"
    },
    "papermill": {
     "duration": 0.018353,
     "end_time": "2025-06-22T23:56:52.924608",
     "exception": false,
     "start_time": "2025-06-22T23:56:52.906255",
     "status": "completed"
    },
    "tags": []
   },
   "outputs": [
    {
     "data": {
      "text/plain": [
       "{0: '0f1cb1b2-c7ea-43cd-a2e5-635c192c6b6b',\n",
       " 1: '8adf2cba-4b41-4bed-81c7-28afa55d17e6',\n",
       " 2: 'b06a9fc4-67aa-46b6-96fe-52dacf341e19',\n",
       " 3: '5c8c3c9b-5d41-43f6-91a3-9b6e5020cdf4',\n",
       " 4: 'cb30885c-4509-4fdd-a9f2-23da3fc56e01',\n",
       " 5: '6393dff7-9bf5-4c2e-91d5-bd93f7b3e861',\n",
       " 6: 'b596d818-6500-411a-8a1b-4f6e28cd76ad',\n",
       " 7: '72f3dabf-0006-4ff1-8470-d7b2480a1378',\n",
       " 8: '33ab239c-5601-4f00-bb8b-6c938ab10268',\n",
       " 9: 'ab1f8c77-017a-4046-a463-1f00e9ac0e5f',\n",
       " 10: '69572fe9-6505-418a-a472-3c7964914e24',\n",
       " 11: 'de55fcde-9012-4bd4-8ed1-9edc05de262c',\n",
       " 12: '79080f92-1ea5-4bf0-a637-827bb1ad5645',\n",
       " 13: '4a7a62ab-812b-4306-a56a-e1f79c960cbe',\n",
       " 14: '3d593a20-b4f7-48a0-b366-949b43126df6',\n",
       " 15: '1f3b52ff-1c1f-463f-8af8-4359a65ce28c',\n",
       " 16: '01dea470-a225-4d5e-8e03-286a024cf5eb',\n",
       " 17: 'bf10a78f-59a0-4d57-970c-a5822fadddbb',\n",
       " 18: '52f764c9-5b6e-4fb0-8ce5-73f3380dba78',\n",
       " 19: '4a0ee824-00fb-458d-9307-d67fc2fdd96a',\n",
       " 20: '148c7557-5518-4576-876b-3739abbe520a',\n",
       " 21: 'b80c9ed0-dec8-4625-9a87-c11918c825e3',\n",
       " 22: '0f5ac3c8-5670-42f1-b640-6b5e9a97d186',\n",
       " 23: 'ec0ff152-12c1-4f0d-8ec6-33d7b554ddc1',\n",
       " 24: '8da1cd18-0972-4f4d-a9f9-483603c9c701',\n",
       " 25: '10d54b5f-76fe-4544-b4cb-e0dce535cc0d',\n",
       " 26: '1574ede9-c846-452d-b492-030b4da72d7a',\n",
       " 27: '23ca1edc-7374-400f-8b3f-bc3f79274ab5',\n",
       " 28: 'de751ee0-a6eb-4ca4-9497-43fcf86b6b6b',\n",
       " 29: '9398c4a9-0cdb-49a8-90b3-049030699e96',\n",
       " 30: 'c94fe6de-ae29-4358-8102-8be6d4f25478',\n",
       " 31: '0afc696f-c5d8-42ea-80e9-772d2193ff32',\n",
       " 32: '0548d338-7544-4504-82e9-ffd15d335d3c',\n",
       " 33: '6969aafa-e1c4-4af3-86fc-f03ef55cecac',\n",
       " 34: '67fa6a97-e7d3-4aa1-bd5c-ca2daa057b2c',\n",
       " 35: '17f3d313-bc4b-4f49-86cd-116d0da98c7b',\n",
       " 36: '4c0f1f1d-c4a0-44ce-b69b-824da241031c',\n",
       " 37: '03db344d-3182-4e7c-9227-2e2d51255d0c',\n",
       " 38: 'f9b2bae7-97fc-4bab-8b4d-5fae8f212a7b',\n",
       " 39: '9e5dfd81-1880-41a7-bb48-96164ee84f1f',\n",
       " 40: 'a9f31302-e620-4b4e-b266-3bb43925a61d',\n",
       " 41: '977a4050-2ad1-49c0-b0e1-c0a6e6deccfc',\n",
       " 42: '0b6fde14-7a89-4097-b3d7-ab19298830e9',\n",
       " 43: '55464169-859a-4388-a3d7-fe79f23d06e2',\n",
       " 44: 'f8323294-594d-4379-af23-0d4bf127f2bf',\n",
       " 45: '6417d961-7a2d-4e10-9f49-ec85ae925d1d',\n",
       " 46: '799fcf41-1353-4e68-bd3c-8da8309d91e8',\n",
       " 47: '5e3f02d1-392f-4244-9850-3cdc6fc7422d',\n",
       " 48: 'db44d49f-8953-4e61-b3a4-c2e51d5ed2ce',\n",
       " 49: '9331e6c8-5d7b-4f02-a410-25aaacc02a70',\n",
       " 50: '9b7ae217-c1d1-4c35-97f2-319ac7711710',\n",
       " 51: '1d1462aa-7475-4777-9475-9b71eb167b7d',\n",
       " 52: 'd2379549-0870-4840-885f-ed136a57507e',\n",
       " 53: '5187c3eb-6fee-4a95-9890-3a9bb20d5f71',\n",
       " 54: '58fabc10-6805-4aed-aab2-d28549f9b61f',\n",
       " 55: 'ac2a6874-e372-4139-a353-59ed231ef7b4',\n",
       " 56: 'cc5faf85-ce3d-42da-bc65-a76382b94706',\n",
       " 57: 'bb347b0a-9053-4d33-9c3d-66deb7306e29',\n",
       " 58: '7de41e2f-18e2-4031-8d60-87d3ea31950e',\n",
       " 59: '6bfb55c4-ed89-46ac-9080-afa446458455',\n",
       " 60: '712376a5-c8cf-4acb-8b61-1aa26ef9d793',\n",
       " 61: '67d4b8e6-0474-4042-a97b-5d95cc03dbfa',\n",
       " 62: '99efff22-81e3-4419-b2ae-86a24a89a005',\n",
       " 63: 'eb3df8d3-f3ff-4d30-af91-e7a4acf90929',\n",
       " 64: '558af138-fb6d-40cf-8b1d-6c95bba4230d',\n",
       " 65: 'c503b9fc-9da8-4c26-937a-103719bedc99',\n",
       " 66: '00a87a4b-65dc-484f-9a66-881e7936e0a2',\n",
       " 67: '0e5bd064-7d6a-4e5e-9164-f08f8ad2eccc',\n",
       " 68: 'a3151d8a-f589-456e-a034-938a9a90a761',\n",
       " 69: '2604d855-60e2-43d6-bc74-ebc102d8521b',\n",
       " 70: '9cbde646-5f02-48ac-a3fb-1f09ac1c8c80',\n",
       " 71: '480630f2-e6b9-44ed-8a6f-26fd04630580',\n",
       " 72: '09454964-92a9-4fe5-ae59-f232b8cf6845',\n",
       " 73: '0c7d8311-c1cb-4277-94c3-f29d027f63ae',\n",
       " 74: '113049ed-cd83-47e5-8445-93f64887a74d',\n",
       " 75: 'fcf0cd63-6cd9-48e5-8144-fd860b4bb0b4',\n",
       " 76: '9f4b87ed-e4e4-4e2d-a6df-3915a4642bf1',\n",
       " 77: '6c243947-faf5-49aa-b883-504a719c191e',\n",
       " 78: '5fe8340d-0e9f-40ed-a0b6-93e8cc18000e',\n",
       " 79: 'efe62a0b-4f35-4f16-b6cb-95a9aad6bd93',\n",
       " 80: 'fdb559e2-d72e-4788-89fa-91e516795e8f',\n",
       " 81: 'a0822334-adfc-4f68-bf61-0cb0daa0a2f5',\n",
       " 82: '902c6d5e-62d6-40a9-8684-95158eda6c69',\n",
       " 83: '7a179c43-6679-489e-b084-b4e1a7d55766',\n",
       " 84: 'd4317492-3a66-4df7-a7e7-a0d71e985de8',\n",
       " 85: 'a740ac36-1764-4051-a651-50de86745547',\n",
       " 86: '5ff48b53-1dfc-456e-8b5d-db1159a4d30f',\n",
       " 87: 'b16278ad-8538-4337-845f-28c4698e1679',\n",
       " 88: '95e4066e-f61f-4921-9499-00f14a11470c',\n",
       " 89: 'd3eca41c-073f-4850-84c4-d0ac61b8642d',\n",
       " 90: '28a9cb07-bbcf-46f7-945e-d579df2fe425',\n",
       " 91: '79afaf36-178e-4dfa-99d8-23dc973e56c1',\n",
       " 92: 'ef687ad6-f153-4617-8c14-149f72e47a74',\n",
       " 93: '54768e8b-f413-41ac-84be-df6dfe1eb1cb',\n",
       " 94: 'e9006c76-c0cd-4544-a730-0cc4f7ca7f00',\n",
       " 95: '9e4693e3-64c2-4c49-933e-a1b25495d2a4',\n",
       " 96: 'd1d344bb-bffd-4f48-a186-670a3f661681',\n",
       " 97: '27e8689e-8f77-4a94-8d46-b729f92c429e',\n",
       " 98: 'a4c9d3e8-a462-4996-a3a2-25669518f192',\n",
       " 99: '28589481-880a-46be-8688-4c68e3f3b498',\n",
       " 100: '62af7ea9-51d3-4a1b-aa18-c1b7a77013e1',\n",
       " 101: '692c2a1d-64d8-4522-be06-5f2600a5f75e',\n",
       " 102: '091eb5ff-a671-4b7c-a731-521e308a022d',\n",
       " 103: '73dc2a09-f879-4f46-92d1-a21112ce9dc3',\n",
       " 104: '6119f282-8d89-45f8-a849-e152377c9bdc',\n",
       " 105: 'cebd8434-0736-45c4-8e42-60b47ff39a08',\n",
       " 106: 'e12916f3-9310-4433-9b08-15334d83958b',\n",
       " 107: '49d34e31-a0bc-4439-8934-d3480ea50d44',\n",
       " 108: '0006c167-17db-4819-9990-13ece461e5a8',\n",
       " 109: '8e92cc92-7118-434e-8a2f-643173146002',\n",
       " 110: '183978aa-b4d6-4b83-9f42-9ddc97c3b599',\n",
       " 111: 'f87ba343-8501-4d9a-b016-d8373d439a1a',\n",
       " 112: '9a1bedc2-c315-4a1f-a9bf-d33e47a786f2',\n",
       " 113: 'bb29deda-216b-44d5-8479-e45eff73ed0b',\n",
       " 114: 'c2b6e821-fdcf-412c-beb2-87dbf1201584',\n",
       " 115: '26dc08b0-a0f3-4c2b-b461-d8d618006edf',\n",
       " 116: '514bc20b-fc9e-4bee-a8ab-084222db409e',\n",
       " 117: 'c156bc38-ce8e-4b5d-a00a-da6eec0c22a6',\n",
       " 118: '3aa6d05d-ee09-430d-8a90-81292729940b',\n",
       " 119: '56b394f7-1fff-4677-8b5c-5d3eaa18654b',\n",
       " 120: '4fc1122a-8363-4a4f-b5d8-7cbf1f804f87',\n",
       " 121: '87c1bb17-5782-4960-9cbb-e1e6e0d0ded9',\n",
       " 122: '0076de68-b230-4d6b-93a7-4abb06da8f09',\n",
       " 123: 'b6e7395c-a73e-4306-9413-33b70fdde7e1',\n",
       " 124: 'e16f611d-279a-43aa-960e-8bc1ad3f44df',\n",
       " 125: '07b5a6a1-ab72-4709-ad3d-14b2e1f7fcf7',\n",
       " 126: '6b628e4b-94f6-4371-881f-bba00a561959',\n",
       " 127: '88346ba6-c2cf-443c-b54e-5c6edb7253ae',\n",
       " 128: 'a0f416d6-8584-4491-9f0c-6d1d70f3cdc0',\n",
       " 129: '63700e59-6022-4d93-b5a9-6f97e5d45df3',\n",
       " 130: 'ef3cce6e-06b1-4537-823c-d3cbcd63903c',\n",
       " 131: 'de744db0-05b4-4dc8-9129-2515dba520b5',\n",
       " 132: '2064080a-b868-423f-9072-b30b846cb271',\n",
       " 133: 'f0bf5d1f-3647-46fd-93da-249520047e40',\n",
       " 134: 'e84b405a-5dab-4f26-a01f-82cfa0619d01',\n",
       " 135: '3bb1e126-f7fc-4785-891f-36d8a3a602a4',\n",
       " 136: '1b7f38f1-9e54-45b1-b846-640ab680cad5',\n",
       " 137: '9069271f-6e89-4e9e-ae5c-da37b795498a',\n",
       " 138: 'd1e066b8-3e18-427d-a63e-91569401111e',\n",
       " 139: '5e71b2c6-8f85-4562-9d2b-130531d8d98d',\n",
       " 140: 'cb8484f4-500f-4303-8de7-78a12bc6916c',\n",
       " 141: 'd3645bf4-2e3b-4ac1-9f54-401089ec25ce',\n",
       " 142: '6f4957b2-7bb6-4402-9637-9f001a4b4ba6',\n",
       " 143: '0b588706-4c15-4cfe-ab40-ec21f9cf4d76',\n",
       " 144: '373a3536-f275-4884-8030-476e857ab1a4',\n",
       " 145: '481405f0-df58-43e6-b89d-61ff5bcaa5ec',\n",
       " 146: '14846b46-2b99-464f-b6b7-0181280d4daa',\n",
       " 147: '6e9c6370-695f-4230-97d2-3bdd3e63fc12',\n",
       " 148: '2118afb9-2e1f-4f94-a311-71b295348c26',\n",
       " 149: 'd2cbdd54-e12f-4d6f-801f-77319df3e708',\n",
       " 150: '3ec8e30c-2730-4a11-89b8-b7c26bcaf795',\n",
       " 151: '6fe93df2-abad-4159-8aa4-90e6a9877811',\n",
       " 152: 'ffdfd8fc-b075-4ac8-88e0-7b6b23dfe93b',\n",
       " 153: '5bbec30d-7829-4f4c-88ee-0391535ff257',\n",
       " 154: '16c38c2b-3aff-4e3b-b451-1df06388507d',\n",
       " 155: 'e9ba4579-8c04-4489-8440-bd0d046c29b5',\n",
       " 156: 'e4c8e232-348a-44c3-a35e-c0c134b7a582',\n",
       " 157: '41888c28-3e79-4c6a-a7c0-616f57dcd5ef',\n",
       " 158: '7842e1c6-9ea8-4f2f-88ef-e9f3a61b7964',\n",
       " 159: '0d2bb001-bffd-472d-b8bf-f7db2b1db092',\n",
       " 160: '0919e0d6-0be4-483a-86dd-e8f182be18b6',\n",
       " 161: '696070df-61c3-4868-87b5-d59971b5f33f',\n",
       " 162: '75993c37-f796-432d-93a9-19173dd38bb9',\n",
       " 163: 'c42e300e-035c-4192-99a2-f3251afc95f0',\n",
       " 164: '5a3fbf72-07cd-4263-95fc-f7b77d484820',\n",
       " 165: '47b409df-fcd4-4496-b064-e17f44d27672',\n",
       " 166: '54c7c65b-8359-4ca6-926f-1a8191e61775',\n",
       " 167: '132fe024-fda7-45d8-907a-f0a825ae9d4c'}"
      ]
     },
     "execution_count": 10,
     "metadata": {},
     "output_type": "execute_result"
    }
   ],
   "source": [
    "vector_store.index_to_docstore_id"
   ]
  },
  {
   "cell_type": "code",
   "execution_count": null,
   "id": "179cd473",
   "metadata": {
    "execution": {
     "iopub.execute_input": "2025-06-22T23:56:52.947701Z",
     "iopub.status.busy": "2025-06-22T23:56:52.947011Z",
     "iopub.status.idle": "2025-06-22T23:56:52.951344Z",
     "shell.execute_reply": "2025-06-22T23:56:52.950702Z"
    },
    "papermill": {
     "duration": 0.017442,
     "end_time": "2025-06-22T23:56:52.952445",
     "exception": false,
     "start_time": "2025-06-22T23:56:52.935003",
     "status": "completed"
    },
    "tags": []
   },
   "outputs": [
    {
     "data": {
      "text/plain": [
       "[]"
      ]
     },
     "execution_count": 11,
     "metadata": {},
     "output_type": "execute_result"
    }
   ],
   "source": [
    "\n",
    "vector_store.get_by_ids(['451a234c-0e84-41bd-99f1-add7db80b5ce'])"
   ]
  },
  {
   "cell_type": "markdown",
   "id": "2401fbc0",
   "metadata": {
    "papermill": {
     "duration": 0.010558,
     "end_time": "2025-06-22T23:56:52.973154",
     "exception": false,
     "start_time": "2025-06-22T23:56:52.962596",
     "status": "completed"
    },
    "tags": []
   },
   "source": [
    "## step 4: Retrieval "
   ]
  },
  {
   "cell_type": "code",
   "execution_count": 12,
   "id": "7846f723",
   "metadata": {
    "execution": {
     "iopub.execute_input": "2025-06-22T23:56:52.995031Z",
     "iopub.status.busy": "2025-06-22T23:56:52.994365Z",
     "iopub.status.idle": "2025-06-22T23:56:52.997792Z",
     "shell.execute_reply": "2025-06-22T23:56:52.997297Z"
    },
    "papermill": {
     "duration": 0.0153,
     "end_time": "2025-06-22T23:56:52.998797",
     "exception": false,
     "start_time": "2025-06-22T23:56:52.983497",
     "status": "completed"
    },
    "tags": []
   },
   "outputs": [],
   "source": [
    "retriever = vector_store.as_retriever(search_type=\"similarity\", search_kwargs={\"k\": 2})"
   ]
  },
  {
   "cell_type": "code",
   "execution_count": null,
   "id": "a3dcafd3",
   "metadata": {
    "execution": {
     "iopub.execute_input": "2025-06-22T23:56:53.020027Z",
     "iopub.status.busy": "2025-06-22T23:56:53.019856Z",
     "iopub.status.idle": "2025-06-22T23:56:53.196437Z",
     "shell.execute_reply": "2025-06-22T23:56:53.195866Z"
    },
    "papermill": {
     "duration": 0.18838,
     "end_time": "2025-06-22T23:56:53.197499",
     "exception": false,
     "start_time": "2025-06-22T23:56:53.009119",
     "status": "completed"
    },
    "tags": []
   },
   "outputs": [
    {
     "data": {
      "text/plain": [
       "[Document(id='de744db0-05b4-4dc8-9129-2515dba520b5', metadata={}, page_content=\"that are amazingly smart at certain things like maybe playing go and chess and other things but they don't feel at all in any shape or form conscious in the way that you know you do to me or i do to you and um and i think actually building ai is uh these intelligent constructs uh is one of the best ways to explore the mystery of consciousness to break it down because um we're going to have devices that are pretty smart at certain things or capable of certain things but potentially won't have any semblance of self-awareness or other things and in fact i would advocate if there's a choice building systems in the first place ai systems that are not conscious to begin with uh are just tools um until we understand them better and the capabilities better so on that topic just not as the ceo of deep mind just as a human being let me ask you about this one particular anecdotal evidence of the google engineer who made a comment or believed that there's some aspect of a language model the\"),\n",
       " Document(id='b80c9ed0-dec8-4625-9a87-c11918c825e3', metadata={}, page_content=\"used of ai is in deep mind from the beginning which is using games as a testing ground for proving out ai algorithms and developing ai algorithms and that was a that was a sort of um a core component of our vision at the start of deepmind was that we would use games very heavily uh as our main testing ground certainly to begin with um because it's super efficient to use games and also you know it's very easy to have metrics to see how well your systems are improving and what direction your ideas are going in and whether you're making incremental improvements and because those games are often rooted in something that humans did for a long time beforehand there's already a strong set of rules like it's already a damn good benchmark yes it's really good for so many reasons because you've got you've got you've got clear measures of how good humans can be at these things and in some cases like go we've been playing it for thousands of years um and and uh often they have scores or at least\")]"
      ]
     },
     "execution_count": 13,
     "metadata": {},
     "output_type": "execute_result"
    }
   ],
   "source": [
    "retriever.invoke(\"what is deepmind\")"
   ]
  },
  {
   "cell_type": "markdown",
   "id": "d3da0eac",
   "metadata": {
    "papermill": {
     "duration": 0.010316,
     "end_time": "2025-06-22T23:56:53.260882",
     "exception": false,
     "start_time": "2025-06-22T23:56:53.250566",
     "status": "completed"
    },
    "tags": []
   },
   "source": [
    "## step 5: making prompt or the augmentation step here we'll merge the uerser query and the relivent chunks that we got from the retrival."
   ]
  },
  {
   "cell_type": "code",
   "execution_count": 14,
   "id": "1c124064",
   "metadata": {
    "execution": {
     "iopub.execute_input": "2025-06-22T23:56:53.283030Z",
     "iopub.status.busy": "2025-06-22T23:56:53.282462Z",
     "iopub.status.idle": "2025-06-22T23:56:56.358402Z",
     "shell.execute_reply": "2025-06-22T23:56:56.357539Z"
    },
    "papermill": {
     "duration": 3.088833,
     "end_time": "2025-06-22T23:56:56.360093",
     "exception": false,
     "start_time": "2025-06-22T23:56:53.271260",
     "status": "completed"
    },
    "tags": []
   },
   "outputs": [
    {
     "name": "stdout",
     "output_type": "stream",
     "text": [
      "Requirement already satisfied: langchain-google-genai in /usr/local/lib/python3.11/dist-packages (2.0.10)\r\n",
      "Requirement already satisfied: filetype<2.0.0,>=1.2.0 in /usr/local/lib/python3.11/dist-packages (from langchain-google-genai) (1.2.0)\r\n",
      "Requirement already satisfied: google-generativeai<0.9.0,>=0.8.0 in /usr/local/lib/python3.11/dist-packages (from langchain-google-genai) (0.8.5)\r\n",
      "Requirement already satisfied: langchain-core<0.4.0,>=0.3.37 in /usr/local/lib/python3.11/dist-packages (from langchain-google-genai) (0.3.66)\r\n",
      "Requirement already satisfied: pydantic<3,>=2 in /usr/local/lib/python3.11/dist-packages (from langchain-google-genai) (2.11.4)\r\n",
      "Requirement already satisfied: google-ai-generativelanguage==0.6.15 in /usr/local/lib/python3.11/dist-packages (from google-generativeai<0.9.0,>=0.8.0->langchain-google-genai) (0.6.15)\r\n",
      "Requirement already satisfied: google-api-core in /usr/local/lib/python3.11/dist-packages (from google-generativeai<0.9.0,>=0.8.0->langchain-google-genai) (1.34.1)\r\n",
      "Requirement already satisfied: google-api-python-client in /usr/local/lib/python3.11/dist-packages (from google-generativeai<0.9.0,>=0.8.0->langchain-google-genai) (2.164.0)\r\n",
      "Requirement already satisfied: google-auth>=2.15.0 in /usr/local/lib/python3.11/dist-packages (from google-generativeai<0.9.0,>=0.8.0->langchain-google-genai) (2.40.1)\r\n",
      "Requirement already satisfied: protobuf in /usr/local/lib/python3.11/dist-packages (from google-generativeai<0.9.0,>=0.8.0->langchain-google-genai) (3.20.3)\r\n",
      "Requirement already satisfied: tqdm in /usr/local/lib/python3.11/dist-packages (from google-generativeai<0.9.0,>=0.8.0->langchain-google-genai) (4.67.1)\r\n",
      "Requirement already satisfied: typing-extensions in /usr/local/lib/python3.11/dist-packages (from google-generativeai<0.9.0,>=0.8.0->langchain-google-genai) (4.13.2)\r\n",
      "Requirement already satisfied: proto-plus<2.0.0dev,>=1.22.3 in /usr/local/lib/python3.11/dist-packages (from google-ai-generativelanguage==0.6.15->google-generativeai<0.9.0,>=0.8.0->langchain-google-genai) (1.26.1)\r\n",
      "Requirement already satisfied: langsmith>=0.3.45 in /usr/local/lib/python3.11/dist-packages (from langchain-core<0.4.0,>=0.3.37->langchain-google-genai) (0.4.1)\r\n",
      "Requirement already satisfied: tenacity!=8.4.0,<10.0.0,>=8.1.0 in /usr/local/lib/python3.11/dist-packages (from langchain-core<0.4.0,>=0.3.37->langchain-google-genai) (9.1.2)\r\n",
      "Requirement already satisfied: jsonpatch<2.0,>=1.33 in /usr/local/lib/python3.11/dist-packages (from langchain-core<0.4.0,>=0.3.37->langchain-google-genai) (1.33)\r\n",
      "Requirement already satisfied: PyYAML>=5.3 in /usr/local/lib/python3.11/dist-packages (from langchain-core<0.4.0,>=0.3.37->langchain-google-genai) (6.0.2)\r\n",
      "Requirement already satisfied: packaging<25,>=23.2 in /usr/local/lib/python3.11/dist-packages (from langchain-core<0.4.0,>=0.3.37->langchain-google-genai) (24.2)\r\n",
      "Requirement already satisfied: annotated-types>=0.6.0 in /usr/local/lib/python3.11/dist-packages (from pydantic<3,>=2->langchain-google-genai) (0.7.0)\r\n",
      "Requirement already satisfied: pydantic-core==2.33.2 in /usr/local/lib/python3.11/dist-packages (from pydantic<3,>=2->langchain-google-genai) (2.33.2)\r\n",
      "Requirement already satisfied: typing-inspection>=0.4.0 in /usr/local/lib/python3.11/dist-packages (from pydantic<3,>=2->langchain-google-genai) (0.4.0)\r\n",
      "Requirement already satisfied: googleapis-common-protos<2.0dev,>=1.56.2 in /usr/local/lib/python3.11/dist-packages (from google-api-core->google-generativeai<0.9.0,>=0.8.0->langchain-google-genai) (1.70.0)\r\n",
      "Requirement already satisfied: requests<3.0.0dev,>=2.18.0 in /usr/local/lib/python3.11/dist-packages (from google-api-core->google-generativeai<0.9.0,>=0.8.0->langchain-google-genai) (2.32.3)\r\n",
      "Requirement already satisfied: cachetools<6.0,>=2.0.0 in /usr/local/lib/python3.11/dist-packages (from google-auth>=2.15.0->google-generativeai<0.9.0,>=0.8.0->langchain-google-genai) (5.5.2)\r\n",
      "Requirement already satisfied: pyasn1-modules>=0.2.1 in /usr/local/lib/python3.11/dist-packages (from google-auth>=2.15.0->google-generativeai<0.9.0,>=0.8.0->langchain-google-genai) (0.4.2)\r\n",
      "Requirement already satisfied: rsa<5,>=3.1.4 in /usr/local/lib/python3.11/dist-packages (from google-auth>=2.15.0->google-generativeai<0.9.0,>=0.8.0->langchain-google-genai) (4.9.1)\r\n",
      "Requirement already satisfied: jsonpointer>=1.9 in /usr/local/lib/python3.11/dist-packages (from jsonpatch<2.0,>=1.33->langchain-core<0.4.0,>=0.3.37->langchain-google-genai) (3.0.0)\r\n",
      "Requirement already satisfied: httpx<1,>=0.23.0 in /usr/local/lib/python3.11/dist-packages (from langsmith>=0.3.45->langchain-core<0.4.0,>=0.3.37->langchain-google-genai) (0.28.1)\r\n",
      "Requirement already satisfied: orjson<4.0.0,>=3.9.14 in /usr/local/lib/python3.11/dist-packages (from langsmith>=0.3.45->langchain-core<0.4.0,>=0.3.37->langchain-google-genai) (3.10.16)\r\n",
      "Requirement already satisfied: requests-toolbelt<2.0.0,>=1.0.0 in /usr/local/lib/python3.11/dist-packages (from langsmith>=0.3.45->langchain-core<0.4.0,>=0.3.37->langchain-google-genai) (1.0.0)\r\n",
      "Requirement already satisfied: zstandard<0.24.0,>=0.23.0 in /usr/local/lib/python3.11/dist-packages (from langsmith>=0.3.45->langchain-core<0.4.0,>=0.3.37->langchain-google-genai) (0.23.0)\r\n",
      "Requirement already satisfied: httplib2<1.dev0,>=0.19.0 in /usr/local/lib/python3.11/dist-packages (from google-api-python-client->google-generativeai<0.9.0,>=0.8.0->langchain-google-genai) (0.22.0)\r\n",
      "Requirement already satisfied: google-auth-httplib2<1.0.0,>=0.2.0 in /usr/local/lib/python3.11/dist-packages (from google-api-python-client->google-generativeai<0.9.0,>=0.8.0->langchain-google-genai) (0.2.0)\r\n",
      "Requirement already satisfied: uritemplate<5,>=3.0.1 in /usr/local/lib/python3.11/dist-packages (from google-api-python-client->google-generativeai<0.9.0,>=0.8.0->langchain-google-genai) (4.1.1)\r\n",
      "Requirement already satisfied: grpcio<2.0dev,>=1.33.2 in /usr/local/lib/python3.11/dist-packages (from google-api-core[grpc]!=2.0.*,!=2.1.*,!=2.10.*,!=2.2.*,!=2.3.*,!=2.4.*,!=2.5.*,!=2.6.*,!=2.7.*,!=2.8.*,!=2.9.*,<3.0.0dev,>=1.34.1->google-ai-generativelanguage==0.6.15->google-generativeai<0.9.0,>=0.8.0->langchain-google-genai) (1.72.0rc1)\r\n",
      "Requirement already satisfied: grpcio-status<2.0dev,>=1.33.2 in /usr/local/lib/python3.11/dist-packages (from google-api-core[grpc]!=2.0.*,!=2.1.*,!=2.10.*,!=2.2.*,!=2.3.*,!=2.4.*,!=2.5.*,!=2.6.*,!=2.7.*,!=2.8.*,!=2.9.*,<3.0.0dev,>=1.34.1->google-ai-generativelanguage==0.6.15->google-generativeai<0.9.0,>=0.8.0->langchain-google-genai) (1.49.0rc1)\r\n",
      "Requirement already satisfied: pyparsing!=3.0.0,!=3.0.1,!=3.0.2,!=3.0.3,<4,>=2.4.2 in /usr/local/lib/python3.11/dist-packages (from httplib2<1.dev0,>=0.19.0->google-api-python-client->google-generativeai<0.9.0,>=0.8.0->langchain-google-genai) (3.0.9)\r\n",
      "Requirement already satisfied: anyio in /usr/local/lib/python3.11/dist-packages (from httpx<1,>=0.23.0->langsmith>=0.3.45->langchain-core<0.4.0,>=0.3.37->langchain-google-genai) (4.9.0)\r\n",
      "Requirement already satisfied: certifi in /usr/local/lib/python3.11/dist-packages (from httpx<1,>=0.23.0->langsmith>=0.3.45->langchain-core<0.4.0,>=0.3.37->langchain-google-genai) (2025.4.26)\r\n",
      "Requirement already satisfied: httpcore==1.* in /usr/local/lib/python3.11/dist-packages (from httpx<1,>=0.23.0->langsmith>=0.3.45->langchain-core<0.4.0,>=0.3.37->langchain-google-genai) (1.0.7)\r\n",
      "Requirement already satisfied: idna in /usr/local/lib/python3.11/dist-packages (from httpx<1,>=0.23.0->langsmith>=0.3.45->langchain-core<0.4.0,>=0.3.37->langchain-google-genai) (3.10)\r\n",
      "Requirement already satisfied: h11<0.15,>=0.13 in /usr/local/lib/python3.11/dist-packages (from httpcore==1.*->httpx<1,>=0.23.0->langsmith>=0.3.45->langchain-core<0.4.0,>=0.3.37->langchain-google-genai) (0.14.0)\r\n",
      "Requirement already satisfied: pyasn1<0.7.0,>=0.6.1 in /usr/local/lib/python3.11/dist-packages (from pyasn1-modules>=0.2.1->google-auth>=2.15.0->google-generativeai<0.9.0,>=0.8.0->langchain-google-genai) (0.6.1)\r\n",
      "Requirement already satisfied: charset-normalizer<4,>=2 in /usr/local/lib/python3.11/dist-packages (from requests<3.0.0dev,>=2.18.0->google-api-core->google-generativeai<0.9.0,>=0.8.0->langchain-google-genai) (3.4.2)\r\n",
      "Requirement already satisfied: urllib3<3,>=1.21.1 in /usr/local/lib/python3.11/dist-packages (from requests<3.0.0dev,>=2.18.0->google-api-core->google-generativeai<0.9.0,>=0.8.0->langchain-google-genai) (2.4.0)\r\n",
      "Requirement already satisfied: sniffio>=1.1 in /usr/local/lib/python3.11/dist-packages (from anyio->httpx<1,>=0.23.0->langsmith>=0.3.45->langchain-core<0.4.0,>=0.3.37->langchain-google-genai) (1.3.1)\r\n"
     ]
    }
   ],
   "source": [
    "!pip install langchain-google-genai"
   ]
  },
  {
   "cell_type": "code",
   "execution_count": 15,
   "id": "f50cb61d",
   "metadata": {
    "execution": {
     "iopub.execute_input": "2025-06-22T23:56:56.385763Z",
     "iopub.status.busy": "2025-06-22T23:56:56.385485Z",
     "iopub.status.idle": "2025-06-22T23:56:56.394326Z",
     "shell.execute_reply": "2025-06-22T23:56:56.393533Z"
    },
    "papermill": {
     "duration": 0.023049,
     "end_time": "2025-06-22T23:56:56.395646",
     "exception": false,
     "start_time": "2025-06-22T23:56:56.372597",
     "status": "completed"
    },
    "tags": []
   },
   "outputs": [],
   "source": [
    "# we will from an llm \n",
    "from langchain_google_genai import ChatGoogleGenerativeAI\n",
    "#from langchain_google_genai import GoogleGenerativeAI\n",
    "\n",
    "\n",
    "llm = ChatGoogleGenerativeAI(\n",
    "    model=\"gemini-1.5-flash-002\",  # Use a model that is available\n",
    "    openai_api_key=os.getenv(\"GOOGLE_API_KEY\"),\n",
    "    temperature=0.2,\n",
    "    #max_completion_tokens=20\n",
    ")\n"
   ]
  },
  {
   "cell_type": "code",
   "execution_count": 16,
   "id": "28fe4302",
   "metadata": {
    "execution": {
     "iopub.execute_input": "2025-06-22T23:56:56.420562Z",
     "iopub.status.busy": "2025-06-22T23:56:56.420361Z",
     "iopub.status.idle": "2025-06-22T23:56:56.424026Z",
     "shell.execute_reply": "2025-06-22T23:56:56.423485Z"
    },
    "papermill": {
     "duration": 0.017367,
     "end_time": "2025-06-22T23:56:56.425161",
     "exception": false,
     "start_time": "2025-06-22T23:56:56.407794",
     "status": "completed"
    },
    "tags": []
   },
   "outputs": [],
   "source": [
    "# merge the relivent chunks+ query = prompt\n",
    "prompt = PromptTemplate(\n",
    "    template=\"\"\"\n",
    "      You are a helpful assistant.\n",
    "      Answer ONLY from the provided transcript context.\n",
    "      If the context is insufficient, just say you don't know. \n",
    "\n",
    "      {context}\n",
    "      Question: {question}\n",
    "    \"\"\",\n",
    "    input_variables = ['context', 'question']\n",
    ")\n"
   ]
  },
  {
   "cell_type": "code",
   "execution_count": 17,
   "id": "59f3e385",
   "metadata": {
    "execution": {
     "iopub.execute_input": "2025-06-22T23:56:56.449957Z",
     "iopub.status.busy": "2025-06-22T23:56:56.449755Z",
     "iopub.status.idle": "2025-06-22T23:56:56.622978Z",
     "shell.execute_reply": "2025-06-22T23:56:56.622280Z"
    },
    "papermill": {
     "duration": 0.186944,
     "end_time": "2025-06-22T23:56:56.624176",
     "exception": false,
     "start_time": "2025-06-22T23:56:56.437232",
     "status": "completed"
    },
    "tags": []
   },
   "outputs": [],
   "source": [
    "question          = \"is the topic of aliens discussed in this video? if yes then what was discussed write it point by point\"\n",
    "retrieved_docs    = retriever.invoke(question)"
   ]
  },
  {
   "cell_type": "code",
   "execution_count": 18,
   "id": "39e46b4a",
   "metadata": {
    "execution": {
     "iopub.execute_input": "2025-06-22T23:56:56.646390Z",
     "iopub.status.busy": "2025-06-22T23:56:56.646192Z",
     "iopub.status.idle": "2025-06-22T23:56:56.650840Z",
     "shell.execute_reply": "2025-06-22T23:56:56.650175Z"
    },
    "papermill": {
     "duration": 0.016905,
     "end_time": "2025-06-22T23:56:56.651903",
     "exception": false,
     "start_time": "2025-06-22T23:56:56.634998",
     "status": "completed"
    },
    "tags": []
   },
   "outputs": [
    {
     "data": {
      "text/plain": [
       "[Document(id='4fc1122a-8363-4a4f-b5d8-7cbf1f804f87', metadata={}, page_content=\"thoughts it could be some interactions with our mind that we think are originating from us is actually something that uh is coming from other life forms elsewhere consciousness itself might be that it could be but i don't see any sensible argument to the why why would all of the alien species be using this way yes some of them will be more primitive they would be close to our level you know there would there should be a whole sort of normal distribution of these things right some would be aggressive some would be you know curious others would be very stoical and philosophical because you know maybe they're a million years older than us but it's not it shouldn't be like what i mean one one alien civilization might be like that communicating thoughts and others but i don't see why you know potentially the hundreds there should be would be uniform in this way right it could be a violent dictatorship that the the people the alien civilizations that uh become successful become um [Music]\"),\n",
       " Document(id='56b394f7-1fff-4677-8b5c-5d3eaa18654b', metadata={}, page_content=\"something there's something more deeper underlying it maybe computational now if we were in a if we were in a sort of safari park and everything we were seeing was a hologram and it was projected by the aliens or whatever that to me is not much different than thinking we're inside of another universe because we still can't see true reality right i mean there's there's other explanations it could be that the way they're communicating is just fundamentally different that we're too dumb to understand the much better methods of communication they have it could be i mean i mean it's silly to say but our own thoughts could be the methods by which they're communicating like the place from which our ideas writers talk about this like the muse yeah it sounds like very kind of uh wild but it could be thoughts it could be some interactions with our mind that we think are originating from us is actually something that uh is coming from other life forms elsewhere consciousness itself might be that\")]"
      ]
     },
     "execution_count": 18,
     "metadata": {},
     "output_type": "execute_result"
    }
   ],
   "source": [
    "retrieved_docs"
   ]
  },
  {
   "cell_type": "code",
   "execution_count": 19,
   "id": "1ce868ae",
   "metadata": {
    "execution": {
     "iopub.execute_input": "2025-06-22T23:56:56.674888Z",
     "iopub.status.busy": "2025-06-22T23:56:56.674310Z",
     "iopub.status.idle": "2025-06-22T23:56:56.678753Z",
     "shell.execute_reply": "2025-06-22T23:56:56.678188Z"
    },
    "papermill": {
     "duration": 0.016392,
     "end_time": "2025-06-22T23:56:56.679650",
     "exception": false,
     "start_time": "2025-06-22T23:56:56.663258",
     "status": "completed"
    },
    "tags": []
   },
   "outputs": [
    {
     "data": {
      "text/plain": [
       "\"thoughts it could be some interactions with our mind that we think are originating from us is actually something that uh is coming from other life forms elsewhere consciousness itself might be that it could be but i don't see any sensible argument to the why why would all of the alien species be using this way yes some of them will be more primitive they would be close to our level you know there would there should be a whole sort of normal distribution of these things right some would be aggressive some would be you know curious others would be very stoical and philosophical because you know maybe they're a million years older than us but it's not it shouldn't be like what i mean one one alien civilization might be like that communicating thoughts and others but i don't see why you know potentially the hundreds there should be would be uniform in this way right it could be a violent dictatorship that the the people the alien civilizations that uh become successful become um [Music]\\n\\nsomething there's something more deeper underlying it maybe computational now if we were in a if we were in a sort of safari park and everything we were seeing was a hologram and it was projected by the aliens or whatever that to me is not much different than thinking we're inside of another universe because we still can't see true reality right i mean there's there's other explanations it could be that the way they're communicating is just fundamentally different that we're too dumb to understand the much better methods of communication they have it could be i mean i mean it's silly to say but our own thoughts could be the methods by which they're communicating like the place from which our ideas writers talk about this like the muse yeah it sounds like very kind of uh wild but it could be thoughts it could be some interactions with our mind that we think are originating from us is actually something that uh is coming from other life forms elsewhere consciousness itself might be that\""
      ]
     },
     "execution_count": 19,
     "metadata": {},
     "output_type": "execute_result"
    }
   ],
   "source": [
    "context_text = \"\\n\\n\".join(doc.page_content for doc in retrieved_docs)\n",
    "context_text"
   ]
  },
  {
   "cell_type": "code",
   "execution_count": 20,
   "id": "5e661550",
   "metadata": {
    "execution": {
     "iopub.execute_input": "2025-06-22T23:56:56.701887Z",
     "iopub.status.busy": "2025-06-22T23:56:56.701310Z",
     "iopub.status.idle": "2025-06-22T23:56:56.705207Z",
     "shell.execute_reply": "2025-06-22T23:56:56.704720Z"
    },
    "papermill": {
     "duration": 0.015982,
     "end_time": "2025-06-22T23:56:56.706197",
     "exception": false,
     "start_time": "2025-06-22T23:56:56.690215",
     "status": "completed"
    },
    "tags": []
   },
   "outputs": [],
   "source": [
    "final_prompt = prompt.invoke({\"context\": context_text, \"question\": question})"
   ]
  },
  {
   "cell_type": "code",
   "execution_count": 21,
   "id": "f469af99",
   "metadata": {
    "execution": {
     "iopub.execute_input": "2025-06-22T23:56:56.728186Z",
     "iopub.status.busy": "2025-06-22T23:56:56.727996Z",
     "iopub.status.idle": "2025-06-22T23:56:56.732419Z",
     "shell.execute_reply": "2025-06-22T23:56:56.731790Z"
    },
    "papermill": {
     "duration": 0.016599,
     "end_time": "2025-06-22T23:56:56.733528",
     "exception": false,
     "start_time": "2025-06-22T23:56:56.716929",
     "status": "completed"
    },
    "tags": []
   },
   "outputs": [
    {
     "data": {
      "text/plain": [
       "StringPromptValue(text=\"\\n      You are a helpful assistant.\\n      Answer ONLY from the provided transcript context.\\n      If the context is insufficient, just say you don't know. \\n\\n      thoughts it could be some interactions with our mind that we think are originating from us is actually something that uh is coming from other life forms elsewhere consciousness itself might be that it could be but i don't see any sensible argument to the why why would all of the alien species be using this way yes some of them will be more primitive they would be close to our level you know there would there should be a whole sort of normal distribution of these things right some would be aggressive some would be you know curious others would be very stoical and philosophical because you know maybe they're a million years older than us but it's not it shouldn't be like what i mean one one alien civilization might be like that communicating thoughts and others but i don't see why you know potentially the hundreds there should be would be uniform in this way right it could be a violent dictatorship that the the people the alien civilizations that uh become successful become um [Music]\\n\\nsomething there's something more deeper underlying it maybe computational now if we were in a if we were in a sort of safari park and everything we were seeing was a hologram and it was projected by the aliens or whatever that to me is not much different than thinking we're inside of another universe because we still can't see true reality right i mean there's there's other explanations it could be that the way they're communicating is just fundamentally different that we're too dumb to understand the much better methods of communication they have it could be i mean i mean it's silly to say but our own thoughts could be the methods by which they're communicating like the place from which our ideas writers talk about this like the muse yeah it sounds like very kind of uh wild but it could be thoughts it could be some interactions with our mind that we think are originating from us is actually something that uh is coming from other life forms elsewhere consciousness itself might be that\\n      Question: is the topic of aliens discussed in this video? if yes then what was discussed write it point by point\\n    \")"
      ]
     },
     "execution_count": 21,
     "metadata": {},
     "output_type": "execute_result"
    }
   ],
   "source": [
    "final_prompt"
   ]
  },
  {
   "cell_type": "markdown",
   "id": "31e3e519",
   "metadata": {
    "papermill": {
     "duration": 0.01052,
     "end_time": "2025-06-22T23:56:56.754808",
     "exception": false,
     "start_time": "2025-06-22T23:56:56.744288",
     "status": "completed"
    },
    "tags": []
   },
   "source": [
    "## Step 4 - Generation"
   ]
  },
  {
   "cell_type": "code",
   "execution_count": 22,
   "id": "b30a8963",
   "metadata": {
    "execution": {
     "iopub.execute_input": "2025-06-22T23:56:56.776934Z",
     "iopub.status.busy": "2025-06-22T23:56:56.776730Z",
     "iopub.status.idle": "2025-06-22T23:56:57.998857Z",
     "shell.execute_reply": "2025-06-22T23:56:57.997990Z"
    },
    "papermill": {
     "duration": 1.23489,
     "end_time": "2025-06-22T23:56:58.000344",
     "exception": false,
     "start_time": "2025-06-22T23:56:56.765454",
     "status": "completed"
    },
    "tags": []
   },
   "outputs": [
    {
     "name": "stdout",
     "output_type": "stream",
     "text": [
      "Yes, the topic of aliens is discussed.  Here are some points:\n",
      "\n",
      "* The possibility that some interactions we perceive as our own thoughts are actually originating from other life forms.\n",
      "* The idea that consciousness itself might be coming from alien life forms.\n",
      "* A question of why all alien species would communicate in the same way (through thoughts), suggesting a normal distribution of alien civilizations with varying levels of advancement and behavior (aggressive, curious, philosophical).\n",
      "* The possibility that our reality is a hologram projected by aliens, similar to being in another universe.\n",
      "* The possibility that alien communication methods are fundamentally different from ours and we are unable to understand them.\n",
      "* The idea that our own thoughts could be a method of alien communication.\n"
     ]
    }
   ],
   "source": [
    "answer = llm.invoke(final_prompt)\n",
    "print(answer.content)"
   ]
  },
  {
   "cell_type": "markdown",
   "id": "544a7efd",
   "metadata": {
    "papermill": {
     "duration": 0.011786,
     "end_time": "2025-06-22T23:56:58.024388",
     "exception": false,
     "start_time": "2025-06-22T23:56:58.012602",
     "status": "completed"
    },
    "tags": []
   },
   "source": [
    "youtube chat done using rag "
   ]
  },
  {
   "cell_type": "markdown",
   "id": "4018b6b1",
   "metadata": {
    "papermill": {
     "duration": 0.010591,
     "end_time": "2025-06-22T23:56:58.045842",
     "exception": false,
     "start_time": "2025-06-22T23:56:58.035251",
     "status": "completed"
    },
    "tags": []
   },
   "source": [
    "# Now we will use chain. system to automate it\n"
   ]
  },
  {
   "cell_type": "markdown",
   "id": "89992e9f",
   "metadata": {
    "papermill": {
     "duration": 0.010874,
     "end_time": "2025-06-22T23:56:58.067479",
     "exception": false,
     "start_time": "2025-06-22T23:56:58.056605",
     "status": "completed"
    },
    "tags": []
   },
   "source": [
    "## first we will build parallel chain"
   ]
  },
  {
   "cell_type": "code",
   "execution_count": 23,
   "id": "8c507115",
   "metadata": {
    "execution": {
     "iopub.execute_input": "2025-06-22T23:56:58.090769Z",
     "iopub.status.busy": "2025-06-22T23:56:58.090501Z",
     "iopub.status.idle": "2025-06-22T23:56:58.097096Z",
     "shell.execute_reply": "2025-06-22T23:56:58.096343Z"
    },
    "papermill": {
     "duration": 0.019775,
     "end_time": "2025-06-22T23:56:58.098354",
     "exception": false,
     "start_time": "2025-06-22T23:56:58.078579",
     "status": "completed"
    },
    "tags": []
   },
   "outputs": [],
   "source": [
    "from langchain_core.runnables import RunnableParallel, RunnablePassthrough, RunnableLambda\n",
    "from langchain_core.output_parsers import StrOutputParser "
   ]
  },
  {
   "cell_type": "code",
   "execution_count": 24,
   "id": "94c5b6bb",
   "metadata": {
    "execution": {
     "iopub.execute_input": "2025-06-22T23:56:58.121214Z",
     "iopub.status.busy": "2025-06-22T23:56:58.121006Z",
     "iopub.status.idle": "2025-06-22T23:56:58.124143Z",
     "shell.execute_reply": "2025-06-22T23:56:58.123629Z"
    },
    "papermill": {
     "duration": 0.015601,
     "end_time": "2025-06-22T23:56:58.125166",
     "exception": false,
     "start_time": "2025-06-22T23:56:58.109565",
     "status": "completed"
    },
    "tags": []
   },
   "outputs": [],
   "source": [
    "\n",
    "def format_docs(retrieved_docs):\n",
    "  context_text = \"\\n\\n\".join(doc.page_content for doc in retrieved_docs)\n",
    "  return context_text"
   ]
  },
  {
   "cell_type": "code",
   "execution_count": 25,
   "id": "ca9e8050",
   "metadata": {
    "execution": {
     "iopub.execute_input": "2025-06-22T23:56:58.148098Z",
     "iopub.status.busy": "2025-06-22T23:56:58.147606Z",
     "iopub.status.idle": "2025-06-22T23:56:58.151356Z",
     "shell.execute_reply": "2025-06-22T23:56:58.150605Z"
    },
    "papermill": {
     "duration": 0.016273,
     "end_time": "2025-06-22T23:56:58.152474",
     "exception": false,
     "start_time": "2025-06-22T23:56:58.136201",
     "status": "completed"
    },
    "tags": []
   },
   "outputs": [],
   "source": [
    "parallel_chain = RunnableParallel({\n",
    "    'context': retriever | RunnableLambda(format_docs),\n",
    "    'question': RunnablePassthrough()\n",
    "})"
   ]
  },
  {
   "cell_type": "code",
   "execution_count": 26,
   "id": "3b75b349",
   "metadata": {
    "execution": {
     "iopub.execute_input": "2025-06-22T23:56:58.174854Z",
     "iopub.status.busy": "2025-06-22T23:56:58.174629Z",
     "iopub.status.idle": "2025-06-22T23:56:58.328820Z",
     "shell.execute_reply": "2025-06-22T23:56:58.328117Z"
    },
    "papermill": {
     "duration": 0.166619,
     "end_time": "2025-06-22T23:56:58.329915",
     "exception": false,
     "start_time": "2025-06-22T23:56:58.163296",
     "status": "completed"
    },
    "tags": []
   },
   "outputs": [
    {
     "data": {
      "text/plain": [
       "{'context': \"the following is a conversation with demus hasabis ceo and co-founder of deepmind a company that has published and builds some of the most incredible artificial intelligence systems in the history of computing including alfred zero that learned all by itself to play the game of gold better than any human in the world and alpha fold two that solved protein folding both tasks considered nearly impossible for a very long time demus is widely considered to be one of the most brilliant and impactful humans in the history of artificial intelligence and science and engineering in general this was truly an honor and a pleasure for me to finally sit down with him for this conversation and i'm sure we will talk many times again in the future this is the lex friedman podcast to support it please check out our sponsors in the description and now dear friends here's demis hassabis let's start with a bit of a personal question am i an ai program you wrote to interview people until i get good enough\\n\\nout our sponsors in the description and now dear friends here's demis hassabis let's start with a bit of a personal question am i an ai program you wrote to interview people until i get good enough to interview you well i'll be impressed if if you were i'd be impressed by myself if you were i don't think we're quite up to that yet but uh maybe you're from the future lex if you did would you tell me is that is that a good thing to tell a language model that's tasked with interviewing that it is in fact um ai maybe we're in a kind of meta turing test uh probably probably it would be a good idea not to tell you so it doesn't change your behavior right this is a kind of heisenberg uncertainty principle situation if i told you you behave differently yeah maybe that's what's happening with us of course this is a benchmark from the future where they replay 2022 as a year before ais were good enough yet and now we want to see is it going to pass exactly if i was such a program would you be\",\n",
       " 'question': 'who is Demis'}"
      ]
     },
     "execution_count": 26,
     "metadata": {},
     "output_type": "execute_result"
    }
   ],
   "source": [
    "parallel_chain.invoke('who is Demis')"
   ]
  },
  {
   "cell_type": "markdown",
   "id": "76274241",
   "metadata": {
    "papermill": {
     "duration": 0.010908,
     "end_time": "2025-06-22T23:56:58.352364",
     "exception": false,
     "start_time": "2025-06-22T23:56:58.341456",
     "status": "completed"
    },
    "tags": []
   },
   "source": [
    "## we will buil another chain"
   ]
  },
  {
   "cell_type": "code",
   "execution_count": 27,
   "id": "639ac883",
   "metadata": {
    "execution": {
     "iopub.execute_input": "2025-06-22T23:56:58.375583Z",
     "iopub.status.busy": "2025-06-22T23:56:58.374980Z",
     "iopub.status.idle": "2025-06-22T23:56:58.378272Z",
     "shell.execute_reply": "2025-06-22T23:56:58.377552Z"
    },
    "papermill": {
     "duration": 0.016092,
     "end_time": "2025-06-22T23:56:58.379340",
     "exception": false,
     "start_time": "2025-06-22T23:56:58.363248",
     "status": "completed"
    },
    "tags": []
   },
   "outputs": [],
   "source": [
    "parser = StrOutputParser()"
   ]
  },
  {
   "cell_type": "code",
   "execution_count": 28,
   "id": "553f1dba",
   "metadata": {
    "execution": {
     "iopub.execute_input": "2025-06-22T23:56:58.402105Z",
     "iopub.status.busy": "2025-06-22T23:56:58.401908Z",
     "iopub.status.idle": "2025-06-22T23:56:58.404847Z",
     "shell.execute_reply": "2025-06-22T23:56:58.404331Z"
    },
    "papermill": {
     "duration": 0.015483,
     "end_time": "2025-06-22T23:56:58.405927",
     "exception": false,
     "start_time": "2025-06-22T23:56:58.390444",
     "status": "completed"
    },
    "tags": []
   },
   "outputs": [],
   "source": [
    "main_chain = parallel_chain | prompt | llm | parser"
   ]
  },
  {
   "cell_type": "code",
   "execution_count": 29,
   "id": "5f35f36e",
   "metadata": {
    "execution": {
     "iopub.execute_input": "2025-06-22T23:56:58.428297Z",
     "iopub.status.busy": "2025-06-22T23:56:58.428130Z",
     "iopub.status.idle": "2025-06-22T23:56:59.293416Z",
     "shell.execute_reply": "2025-06-22T23:56:59.292720Z"
    },
    "papermill": {
     "duration": 0.877741,
     "end_time": "2025-06-22T23:56:59.294638",
     "exception": false,
     "start_time": "2025-06-22T23:56:58.416897",
     "status": "completed"
    },
    "tags": []
   },
   "outputs": [
    {
     "data": {
      "text/plain": [
       "'The transcript discusses self-improvement, focusing on identifying strengths and weaknesses, combining them with passions, and making a difference.  It then shifts to a discussion about physics, mentioning the limitations of the standard model and the need for more fundamental explanations.  A suggestion is made to illustrate these concepts with diagrams or a step-by-step explanation.'"
      ]
     },
     "execution_count": 29,
     "metadata": {},
     "output_type": "execute_result"
    }
   ],
   "source": [
    "main_chain.invoke('Can you summarize the video')"
   ]
  },
  {
   "cell_type": "code",
   "execution_count": null,
   "id": "a99e1eb5",
   "metadata": {
    "papermill": {
     "duration": 0.01148,
     "end_time": "2025-06-22T23:57:04.716791",
     "exception": false,
     "start_time": "2025-06-22T23:57:04.705311",
     "status": "completed"
    },
    "tags": []
   },
   "outputs": [],
   "source": []
  }
 ],
 "metadata": {
  "kaggle": {
   "accelerator": "nvidiaTeslaT4",
   "dataSources": [],
   "dockerImageVersionId": 31041,
   "isGpuEnabled": true,
   "isInternetEnabled": true,
   "language": "python",
   "sourceType": "notebook"
  },
  "kernelspec": {
   "display_name": "Python 3",
   "language": "python",
   "name": "python3"
  },
  "language_info": {
   "codemirror_mode": {
    "name": "ipython",
    "version": 3
   },
   "file_extension": ".py",
   "mimetype": "text/x-python",
   "name": "python",
   "nbconvert_exporter": "python",
   "pygments_lexer": "ipython3",
   "version": "3.11.11"
  },
  "papermill": {
   "default_parameters": {},
   "duration": 49.956324,
   "end_time": "2025-06-22T23:57:05.346113",
   "environment_variables": {},
   "exception": null,
   "input_path": "__notebook__.ipynb",
   "output_path": "__notebook__.ipynb",
   "parameters": {},
   "start_time": "2025-06-22T23:56:15.389789",
   "version": "2.6.0"
  }
 },
 "nbformat": 4,
 "nbformat_minor": 5
}
